{
 "cells": [
  {
   "cell_type": "markdown",
   "id": "ca73e9d1",
   "metadata": {},
   "source": [
    "# Pipeline de tratamiento de datos"
   ]
  },
  {
   "cell_type": "code",
   "execution_count": null,
   "id": "b58d9641",
   "metadata": {},
   "outputs": [],
   "source": [
    "# Librerias\n",
    "import pandas as pd \n",
    "import numpy as np \n",
    "import datetime \n",
    "import os \n",
    "import re "
   ]
  },
  {
   "cell_type": "code",
   "execution_count": null,
   "id": "0b7fb022",
   "metadata": {},
   "outputs": [],
   "source": [
    "# Lectura de archivos \n",
    "files = {\n",
    "    \"categoria\": \"data/categoria.csv\",\n",
    "    \"cliente\": \"data/cliente.csv\",\n",
    "    \"events\": \"data/events.csv\",\n",
    "    \"marca\": \"data/marca.csv\",\n",
    "    \"producto\": \"data/producto.csv\",\n",
    "}\n",
    "\n",
    "def load_csv_robusto(path):\n",
    "    for enc in [\"utf-8\", \"latin-1\", \"cp1252\"]:\n",
    "        try:\n",
    "            return pd.read_csv(path, encoding=enc, low_memory=False)\n",
    "        except Exception:\n",
    "            continue\n",
    "    # último intento sin encoding explícito\n",
    "    return pd.read_csv(path, low_memory=False)\n",
    "\n",
    "# --- Parsear fechas m/d/yy (pivot: <30 -> 2000s; >=30 -> 1900s) ---\n",
    "def parse_mdY(s, pivot=30):\n",
    "    if pd.isna(s): \n",
    "        return pd.NaT\n",
    "    m = re.match(r\"\\s*(\\d{1,2})/(\\d{1,2})/(\\d{2,4})\\s*$\", str(s))\n",
    "    if not m:\n",
    "        return pd.NaT\n",
    "    mm, dd, yy = map(int, m.groups())\n",
    "    if yy < 100:\n",
    "        yy = 2000 + yy if yy < pivot else 1900 + yy\n",
    "    try:\n",
    "        return pd.Timestamp(year=yy, month=mm, day=dd)\n",
    "    except Exception:\n",
    "        return pd.NaT"
   ]
  },
  {
   "cell_type": "code",
   "execution_count": null,
   "id": "b3e519e5",
   "metadata": {},
   "outputs": [],
   "source": [
    "categoria = load_csv_robusto(files[\"categoria\"])\n",
    "cliente = load_csv_robusto(files[\"cliente\"])\n",
    "events = load_csv_robusto(files[\"events\"])\n",
    "marca = load_csv_robusto(files[\"marca\"])\n",
    "producto = load_csv_robusto(files[\"producto\"])"
   ]
  },
  {
   "cell_type": "markdown",
   "id": "e4cff0c0",
   "metadata": {},
   "source": [
    "### Limpieza categoria"
   ]
  },
  {
   "cell_type": "code",
   "execution_count": 3,
   "id": "a7a8e715",
   "metadata": {},
   "outputs": [
    {
     "data": {
      "text/html": [
       "<div>\n",
       "<style scoped>\n",
       "    .dataframe tbody tr th:only-of-type {\n",
       "        vertical-align: middle;\n",
       "    }\n",
       "\n",
       "    .dataframe tbody tr th {\n",
       "        vertical-align: top;\n",
       "    }\n",
       "\n",
       "    .dataframe thead th {\n",
       "        text-align: right;\n",
       "    }\n",
       "</style>\n",
       "<table border=\"1\" class=\"dataframe\">\n",
       "  <thead>\n",
       "    <tr style=\"text-align: right;\">\n",
       "      <th></th>\n",
       "      <th>id</th>\n",
       "      <th>categoria</th>\n",
       "    </tr>\n",
       "  </thead>\n",
       "  <tbody>\n",
       "    <tr>\n",
       "      <th>0</th>\n",
       "      <td>1</td>\n",
       "      <td>SCOTCH WHISKIES</td>\n",
       "    </tr>\n",
       "    <tr>\n",
       "      <th>1</th>\n",
       "      <td>2</td>\n",
       "      <td>STRAIGHT BOURBON WHISKIES</td>\n",
       "    </tr>\n",
       "    <tr>\n",
       "      <th>2</th>\n",
       "      <td>3</td>\n",
       "      <td>BLENDED WHISKIES</td>\n",
       "    </tr>\n",
       "    <tr>\n",
       "      <th>3</th>\n",
       "      <td>4</td>\n",
       "      <td>IMPORTED DRY GINS</td>\n",
       "    </tr>\n",
       "    <tr>\n",
       "      <th>4</th>\n",
       "      <td>5</td>\n",
       "      <td>DECANTERS &amp; SPECIALTY PACKAGES</td>\n",
       "    </tr>\n",
       "  </tbody>\n",
       "</table>\n",
       "</div>"
      ],
      "text/plain": [
       "   id                       categoria\n",
       "0   1                 SCOTCH WHISKIES\n",
       "1   2       STRAIGHT BOURBON WHISKIES\n",
       "2   3                BLENDED WHISKIES\n",
       "3   4               IMPORTED DRY GINS\n",
       "4   5  DECANTERS & SPECIALTY PACKAGES"
      ]
     },
     "execution_count": 3,
     "metadata": {},
     "output_type": "execute_result"
    }
   ],
   "source": [
    "categoria.head()"
   ]
  },
  {
   "cell_type": "code",
   "execution_count": 4,
   "id": "b91b4681",
   "metadata": {},
   "outputs": [
    {
     "data": {
      "text/plain": [
       "0"
      ]
     },
     "execution_count": 4,
     "metadata": {},
     "output_type": "execute_result"
    }
   ],
   "source": [
    "categoria.duplicated().sum()"
   ]
  },
  {
   "cell_type": "code",
   "execution_count": 5,
   "id": "982fb1b6",
   "metadata": {},
   "outputs": [
    {
     "data": {
      "text/plain": [
       "id           0\n",
       "categoria    0\n",
       "dtype: int64"
      ]
     },
     "execution_count": 5,
     "metadata": {},
     "output_type": "execute_result"
    }
   ],
   "source": [
    "categoria.isnull().sum()    "
   ]
  },
  {
   "cell_type": "code",
   "execution_count": 6,
   "id": "f8de381c",
   "metadata": {},
   "outputs": [],
   "source": [
    "categoria[\"categoria\"] = categoria[\"categoria\"].str.strip().str.upper()"
   ]
  },
  {
   "cell_type": "code",
   "execution_count": 7,
   "id": "e795a043",
   "metadata": {},
   "outputs": [
    {
     "name": "stdout",
     "output_type": "stream",
     "text": [
      "<class 'pandas.core.frame.DataFrame'>\n",
      "RangeIndex: 101 entries, 0 to 100\n",
      "Data columns (total 2 columns):\n",
      " #   Column     Non-Null Count  Dtype \n",
      "---  ------     --------------  ----- \n",
      " 0   id         101 non-null    int64 \n",
      " 1   categoria  101 non-null    object\n",
      "dtypes: int64(1), object(1)\n",
      "memory usage: 1.7+ KB\n"
     ]
    }
   ],
   "source": [
    "categoria.info()"
   ]
  },
  {
   "cell_type": "markdown",
   "id": "f261d3b9",
   "metadata": {},
   "source": [
    "### Marca"
   ]
  },
  {
   "cell_type": "code",
   "execution_count": 8,
   "id": "97b48abf",
   "metadata": {},
   "outputs": [
    {
     "data": {
      "text/html": [
       "<div>\n",
       "<style scoped>\n",
       "    .dataframe tbody tr th:only-of-type {\n",
       "        vertical-align: middle;\n",
       "    }\n",
       "\n",
       "    .dataframe tbody tr th {\n",
       "        vertical-align: top;\n",
       "    }\n",
       "\n",
       "    .dataframe thead th {\n",
       "        text-align: right;\n",
       "    }\n",
       "</style>\n",
       "<table border=\"1\" class=\"dataframe\">\n",
       "  <thead>\n",
       "    <tr style=\"text-align: right;\">\n",
       "      <th></th>\n",
       "      <th>id</th>\n",
       "      <th>marca</th>\n",
       "    </tr>\n",
       "  </thead>\n",
       "  <tbody>\n",
       "    <tr>\n",
       "      <th>0</th>\n",
       "      <td>1</td>\n",
       "      <td>Diageo Americas</td>\n",
       "    </tr>\n",
       "    <tr>\n",
       "      <th>1</th>\n",
       "      <td>2</td>\n",
       "      <td>Heaven Hill Brands</td>\n",
       "    </tr>\n",
       "    <tr>\n",
       "      <th>2</th>\n",
       "      <td>3</td>\n",
       "      <td>Sazerac Co., Inc.</td>\n",
       "    </tr>\n",
       "    <tr>\n",
       "      <th>3</th>\n",
       "      <td>4</td>\n",
       "      <td>Sage Beverages</td>\n",
       "    </tr>\n",
       "    <tr>\n",
       "      <th>4</th>\n",
       "      <td>5</td>\n",
       "      <td>MHW Ltd</td>\n",
       "    </tr>\n",
       "  </tbody>\n",
       "</table>\n",
       "</div>"
      ],
      "text/plain": [
       "   id               marca\n",
       "0   1     Diageo Americas\n",
       "1   2  Heaven Hill Brands\n",
       "2   3   Sazerac Co., Inc.\n",
       "3   4      Sage Beverages\n",
       "4   5             MHW Ltd"
      ]
     },
     "execution_count": 8,
     "metadata": {},
     "output_type": "execute_result"
    }
   ],
   "source": [
    "marca.head()"
   ]
  },
  {
   "cell_type": "code",
   "execution_count": 9,
   "id": "b8067964",
   "metadata": {},
   "outputs": [
    {
     "data": {
      "text/plain": [
       "id       0\n",
       "marca    0\n",
       "dtype: int64"
      ]
     },
     "execution_count": 9,
     "metadata": {},
     "output_type": "execute_result"
    }
   ],
   "source": [
    "marca.isnull().sum()"
   ]
  },
  {
   "cell_type": "code",
   "execution_count": 10,
   "id": "19c60d79",
   "metadata": {},
   "outputs": [
    {
     "data": {
      "text/plain": [
       "0"
      ]
     },
     "execution_count": 10,
     "metadata": {},
     "output_type": "execute_result"
    }
   ],
   "source": [
    "marca.duplicated().sum()"
   ]
  },
  {
   "cell_type": "code",
   "execution_count": 11,
   "id": "48d0e601",
   "metadata": {},
   "outputs": [
    {
     "data": {
      "text/html": [
       "<div>\n",
       "<style scoped>\n",
       "    .dataframe tbody tr th:only-of-type {\n",
       "        vertical-align: middle;\n",
       "    }\n",
       "\n",
       "    .dataframe tbody tr th {\n",
       "        vertical-align: top;\n",
       "    }\n",
       "\n",
       "    .dataframe thead th {\n",
       "        text-align: right;\n",
       "    }\n",
       "</style>\n",
       "<table border=\"1\" class=\"dataframe\">\n",
       "  <thead>\n",
       "    <tr style=\"text-align: right;\">\n",
       "      <th></th>\n",
       "      <th>id</th>\n",
       "      <th>marca</th>\n",
       "    </tr>\n",
       "  </thead>\n",
       "  <tbody>\n",
       "    <tr>\n",
       "      <th>0</th>\n",
       "      <td>1</td>\n",
       "      <td>DIAGEO AMERICAS</td>\n",
       "    </tr>\n",
       "    <tr>\n",
       "      <th>1</th>\n",
       "      <td>2</td>\n",
       "      <td>HEAVEN HILL BRANDS</td>\n",
       "    </tr>\n",
       "    <tr>\n",
       "      <th>2</th>\n",
       "      <td>3</td>\n",
       "      <td>SAZERAC CO., INC.</td>\n",
       "    </tr>\n",
       "    <tr>\n",
       "      <th>3</th>\n",
       "      <td>4</td>\n",
       "      <td>SAGE BEVERAGES</td>\n",
       "    </tr>\n",
       "    <tr>\n",
       "      <th>4</th>\n",
       "      <td>5</td>\n",
       "      <td>MHW LTD</td>\n",
       "    </tr>\n",
       "  </tbody>\n",
       "</table>\n",
       "</div>"
      ],
      "text/plain": [
       "   id               marca\n",
       "0   1     DIAGEO AMERICAS\n",
       "1   2  HEAVEN HILL BRANDS\n",
       "2   3   SAZERAC CO., INC.\n",
       "3   4      SAGE BEVERAGES\n",
       "4   5             MHW LTD"
      ]
     },
     "execution_count": 11,
     "metadata": {},
     "output_type": "execute_result"
    }
   ],
   "source": [
    "marca[\"marca\"] = marca[\"marca\"].str.strip().str.upper()\n",
    "marca.head()"
   ]
  },
  {
   "cell_type": "code",
   "execution_count": 12,
   "id": "f2b1e95d",
   "metadata": {},
   "outputs": [
    {
     "name": "stdout",
     "output_type": "stream",
     "text": [
      "<class 'pandas.core.frame.DataFrame'>\n",
      "RangeIndex: 307 entries, 0 to 306\n",
      "Data columns (total 2 columns):\n",
      " #   Column  Non-Null Count  Dtype \n",
      "---  ------  --------------  ----- \n",
      " 0   id      307 non-null    int64 \n",
      " 1   marca   307 non-null    object\n",
      "dtypes: int64(1), object(1)\n",
      "memory usage: 4.9+ KB\n"
     ]
    }
   ],
   "source": [
    "marca.info()"
   ]
  },
  {
   "cell_type": "markdown",
   "id": "19a0a5e7",
   "metadata": {},
   "source": [
    "### Producto"
   ]
  },
  {
   "cell_type": "code",
   "execution_count": 13,
   "id": "64936022",
   "metadata": {},
   "outputs": [
    {
     "data": {
      "text/html": [
       "<div>\n",
       "<style scoped>\n",
       "    .dataframe tbody tr th:only-of-type {\n",
       "        vertical-align: middle;\n",
       "    }\n",
       "\n",
       "    .dataframe tbody tr th {\n",
       "        vertical-align: top;\n",
       "    }\n",
       "\n",
       "    .dataframe thead th {\n",
       "        text-align: right;\n",
       "    }\n",
       "</style>\n",
       "<table border=\"1\" class=\"dataframe\">\n",
       "  <thead>\n",
       "    <tr style=\"text-align: right;\">\n",
       "      <th></th>\n",
       "      <th>id</th>\n",
       "      <th>categoria_id</th>\n",
       "      <th>nombre</th>\n",
       "      <th>marca_id</th>\n",
       "      <th>volumen</th>\n",
       "      <th>precio</th>\n",
       "    </tr>\n",
       "  </thead>\n",
       "  <tbody>\n",
       "    <tr>\n",
       "      <th>0</th>\n",
       "      <td>356475</td>\n",
       "      <td>9.0</td>\n",
       "      <td>Crown Royal Honey</td>\n",
       "      <td>1.0</td>\n",
       "      <td>750</td>\n",
       "      <td>22.49</td>\n",
       "    </tr>\n",
       "    <tr>\n",
       "      <th>1</th>\n",
       "      <td>15335</td>\n",
       "      <td>9.0</td>\n",
       "      <td>Crown Royal Regal Apple Mini</td>\n",
       "      <td>1.0</td>\n",
       "      <td>300</td>\n",
       "      <td>11.03</td>\n",
       "    </tr>\n",
       "    <tr>\n",
       "      <th>2</th>\n",
       "      <td>81345</td>\n",
       "      <td>9.0</td>\n",
       "      <td>Crown Royal Regal Apple</td>\n",
       "      <td>1.0</td>\n",
       "      <td>200</td>\n",
       "      <td>7.08</td>\n",
       "    </tr>\n",
       "    <tr>\n",
       "      <th>3</th>\n",
       "      <td>150318</td>\n",
       "      <td>9.0</td>\n",
       "      <td>Crown Royal Xr Canadian Whiskey</td>\n",
       "      <td>1.0</td>\n",
       "      <td>750</td>\n",
       "      <td>98.99</td>\n",
       "    </tr>\n",
       "    <tr>\n",
       "      <th>4</th>\n",
       "      <td>310791</td>\n",
       "      <td>9.0</td>\n",
       "      <td>Crown Royal Canadian Whisky Mini</td>\n",
       "      <td>1.0</td>\n",
       "      <td>300</td>\n",
       "      <td>11.03</td>\n",
       "    </tr>\n",
       "  </tbody>\n",
       "</table>\n",
       "</div>"
      ],
      "text/plain": [
       "       id  categoria_id                            nombre  marca_id  volumen  \\\n",
       "0  356475           9.0                 Crown Royal Honey       1.0      750   \n",
       "1   15335           9.0      Crown Royal Regal Apple Mini       1.0      300   \n",
       "2   81345           9.0           Crown Royal Regal Apple       1.0      200   \n",
       "3  150318           9.0   Crown Royal Xr Canadian Whiskey       1.0      750   \n",
       "4  310791           9.0  Crown Royal Canadian Whisky Mini       1.0      300   \n",
       "\n",
       "   precio  \n",
       "0   22.49  \n",
       "1   11.03  \n",
       "2    7.08  \n",
       "3   98.99  \n",
       "4   11.03  "
      ]
     },
     "execution_count": 13,
     "metadata": {},
     "output_type": "execute_result"
    }
   ],
   "source": [
    "producto.head()"
   ]
  },
  {
   "cell_type": "code",
   "execution_count": 14,
   "id": "ac6d7a7e",
   "metadata": {},
   "outputs": [
    {
     "data": {
      "text/plain": [
       "0"
      ]
     },
     "execution_count": 14,
     "metadata": {},
     "output_type": "execute_result"
    }
   ],
   "source": [
    "producto.duplicated().sum()"
   ]
  },
  {
   "cell_type": "code",
   "execution_count": 15,
   "id": "e8acafb7",
   "metadata": {},
   "outputs": [
    {
     "data": {
      "text/html": [
       "<div>\n",
       "<style scoped>\n",
       "    .dataframe tbody tr th:only-of-type {\n",
       "        vertical-align: middle;\n",
       "    }\n",
       "\n",
       "    .dataframe tbody tr th {\n",
       "        vertical-align: top;\n",
       "    }\n",
       "\n",
       "    .dataframe thead th {\n",
       "        text-align: right;\n",
       "    }\n",
       "</style>\n",
       "<table border=\"1\" class=\"dataframe\">\n",
       "  <thead>\n",
       "    <tr style=\"text-align: right;\">\n",
       "      <th></th>\n",
       "      <th>id</th>\n",
       "      <th>categoria_id</th>\n",
       "      <th>marca_id</th>\n",
       "      <th>volumen</th>\n",
       "      <th>precio</th>\n",
       "    </tr>\n",
       "  </thead>\n",
       "  <tbody>\n",
       "    <tr>\n",
       "      <th>count</th>\n",
       "      <td>12026.000000</td>\n",
       "      <td>10998.000000</td>\n",
       "      <td>11150.000000</td>\n",
       "      <td>12026.000000</td>\n",
       "      <td>12020.000000</td>\n",
       "    </tr>\n",
       "    <tr>\n",
       "      <th>mean</th>\n",
       "      <td>233928.299850</td>\n",
       "      <td>23.148663</td>\n",
       "      <td>41.812735</td>\n",
       "      <td>1033.562448</td>\n",
       "      <td>38.770502</td>\n",
       "    </tr>\n",
       "    <tr>\n",
       "      <th>std</th>\n",
       "      <td>133810.910123</td>\n",
       "      <td>20.469181</td>\n",
       "      <td>62.779059</td>\n",
       "      <td>4717.072506</td>\n",
       "      <td>309.980074</td>\n",
       "    </tr>\n",
       "    <tr>\n",
       "      <th>min</th>\n",
       "      <td>15.000000</td>\n",
       "      <td>1.000000</td>\n",
       "      <td>1.000000</td>\n",
       "      <td>0.000000</td>\n",
       "      <td>0.000000</td>\n",
       "    </tr>\n",
       "    <tr>\n",
       "      <th>25%</th>\n",
       "      <td>117674.750000</td>\n",
       "      <td>7.000000</td>\n",
       "      <td>7.000000</td>\n",
       "      <td>750.000000</td>\n",
       "      <td>8.250000</td>\n",
       "    </tr>\n",
       "    <tr>\n",
       "      <th>50%</th>\n",
       "      <td>234303.500000</td>\n",
       "      <td>18.000000</td>\n",
       "      <td>19.000000</td>\n",
       "      <td>750.000000</td>\n",
       "      <td>14.250000</td>\n",
       "    </tr>\n",
       "    <tr>\n",
       "      <th>75%</th>\n",
       "      <td>349531.750000</td>\n",
       "      <td>37.000000</td>\n",
       "      <td>39.000000</td>\n",
       "      <td>750.000000</td>\n",
       "      <td>25.500000</td>\n",
       "    </tr>\n",
       "    <tr>\n",
       "      <th>max</th>\n",
       "      <td>466861.000000</td>\n",
       "      <td>101.000000</td>\n",
       "      <td>307.000000</td>\n",
       "      <td>225000.000000</td>\n",
       "      <td>9702.000000</td>\n",
       "    </tr>\n",
       "  </tbody>\n",
       "</table>\n",
       "</div>"
      ],
      "text/plain": [
       "                  id  categoria_id      marca_id        volumen        precio\n",
       "count   12026.000000  10998.000000  11150.000000   12026.000000  12020.000000\n",
       "mean   233928.299850     23.148663     41.812735    1033.562448     38.770502\n",
       "std    133810.910123     20.469181     62.779059    4717.072506    309.980074\n",
       "min        15.000000      1.000000      1.000000       0.000000      0.000000\n",
       "25%    117674.750000      7.000000      7.000000     750.000000      8.250000\n",
       "50%    234303.500000     18.000000     19.000000     750.000000     14.250000\n",
       "75%    349531.750000     37.000000     39.000000     750.000000     25.500000\n",
       "max    466861.000000    101.000000    307.000000  225000.000000   9702.000000"
      ]
     },
     "execution_count": 15,
     "metadata": {},
     "output_type": "execute_result"
    }
   ],
   "source": [
    "producto.describe()"
   ]
  },
  {
   "cell_type": "code",
   "execution_count": 16,
   "id": "3fba645b",
   "metadata": {},
   "outputs": [
    {
     "data": {
      "text/plain": [
       "id                 0\n",
       "categoria_id    1028\n",
       "nombre             0\n",
       "marca_id         876\n",
       "volumen            0\n",
       "precio             6\n",
       "dtype: int64"
      ]
     },
     "execution_count": 16,
     "metadata": {},
     "output_type": "execute_result"
    }
   ],
   "source": [
    "producto.isnull().sum()"
   ]
  },
  {
   "cell_type": "markdown",
   "id": "ec245f3d",
   "metadata": {},
   "source": [
    "Se ha verificado que existen datos en volumen y en precio que son igual a cero; deben ser corregidos"
   ]
  },
  {
   "cell_type": "code",
   "execution_count": 17,
   "id": "7b0b3497",
   "metadata": {},
   "outputs": [
    {
     "data": {
      "text/html": [
       "<div>\n",
       "<style scoped>\n",
       "    .dataframe tbody tr th:only-of-type {\n",
       "        vertical-align: middle;\n",
       "    }\n",
       "\n",
       "    .dataframe tbody tr th {\n",
       "        vertical-align: top;\n",
       "    }\n",
       "\n",
       "    .dataframe thead th {\n",
       "        text-align: right;\n",
       "    }\n",
       "</style>\n",
       "<table border=\"1\" class=\"dataframe\">\n",
       "  <thead>\n",
       "    <tr style=\"text-align: right;\">\n",
       "      <th></th>\n",
       "      <th>id</th>\n",
       "      <th>categoria_id</th>\n",
       "      <th>nombre</th>\n",
       "      <th>marca_id</th>\n",
       "      <th>volumen</th>\n",
       "      <th>precio</th>\n",
       "    </tr>\n",
       "  </thead>\n",
       "  <tbody>\n",
       "    <tr>\n",
       "      <th>11142</th>\n",
       "      <td>198041</td>\n",
       "      <td>NaN</td>\n",
       "      <td>Item Placeholder for unlisted items</td>\n",
       "      <td>304.0</td>\n",
       "      <td>0</td>\n",
       "      <td>1.50</td>\n",
       "    </tr>\n",
       "    <tr>\n",
       "      <th>11143</th>\n",
       "      <td>21551</td>\n",
       "      <td>NaN</td>\n",
       "      <td>Test</td>\n",
       "      <td>304.0</td>\n",
       "      <td>0</td>\n",
       "      <td>5.82</td>\n",
       "    </tr>\n",
       "  </tbody>\n",
       "</table>\n",
       "</div>"
      ],
      "text/plain": [
       "           id  categoria_id                               nombre  marca_id  \\\n",
       "11142  198041           NaN  Item Placeholder for unlisted items     304.0   \n",
       "11143   21551           NaN                                 Test     304.0   \n",
       "\n",
       "       volumen  precio  \n",
       "11142        0    1.50  \n",
       "11143        0    5.82  "
      ]
     },
     "execution_count": 17,
     "metadata": {},
     "output_type": "execute_result"
    }
   ],
   "source": [
    "producto[producto[\"volumen\"]==0]"
   ]
  },
  {
   "cell_type": "code",
   "execution_count": 18,
   "id": "c189472d",
   "metadata": {},
   "outputs": [
    {
     "data": {
      "text/html": [
       "<div>\n",
       "<style scoped>\n",
       "    .dataframe tbody tr th:only-of-type {\n",
       "        vertical-align: middle;\n",
       "    }\n",
       "\n",
       "    .dataframe tbody tr th {\n",
       "        vertical-align: top;\n",
       "    }\n",
       "\n",
       "    .dataframe thead th {\n",
       "        text-align: right;\n",
       "    }\n",
       "</style>\n",
       "<table border=\"1\" class=\"dataframe\">\n",
       "  <thead>\n",
       "    <tr style=\"text-align: right;\">\n",
       "      <th></th>\n",
       "      <th>id</th>\n",
       "      <th>categoria_id</th>\n",
       "      <th>nombre</th>\n",
       "      <th>marca_id</th>\n",
       "      <th>volumen</th>\n",
       "      <th>precio</th>\n",
       "    </tr>\n",
       "  </thead>\n",
       "  <tbody>\n",
       "    <tr>\n",
       "      <th>8094</th>\n",
       "      <td>116587</td>\n",
       "      <td>19.0</td>\n",
       "      <td>Turi Vodka Estonian Dno</td>\n",
       "      <td>47.0</td>\n",
       "      <td>750</td>\n",
       "      <td>0.0</td>\n",
       "    </tr>\n",
       "    <tr>\n",
       "      <th>8104</th>\n",
       "      <td>207115</td>\n",
       "      <td>19.0</td>\n",
       "      <td>Mezzaluna Vodka</td>\n",
       "      <td>47.0</td>\n",
       "      <td>750</td>\n",
       "      <td>0.0</td>\n",
       "    </tr>\n",
       "    <tr>\n",
       "      <th>8798</th>\n",
       "      <td>357802</td>\n",
       "      <td>11.0</td>\n",
       "      <td>Littlemill 12yr</td>\n",
       "      <td>63.0</td>\n",
       "      <td>750</td>\n",
       "      <td>0.0</td>\n",
       "    </tr>\n",
       "    <tr>\n",
       "      <th>9940</th>\n",
       "      <td>51360</td>\n",
       "      <td>19.0</td>\n",
       "      <td>Hammer Sickle Vodka</td>\n",
       "      <td>112.0</td>\n",
       "      <td>750</td>\n",
       "      <td>0.0</td>\n",
       "    </tr>\n",
       "    <tr>\n",
       "      <th>10090</th>\n",
       "      <td>310556</td>\n",
       "      <td>24.0</td>\n",
       "      <td>Voo Doo Spice Rum</td>\n",
       "      <td>139.0</td>\n",
       "      <td>750</td>\n",
       "      <td>0.0</td>\n",
       "    </tr>\n",
       "  </tbody>\n",
       "</table>\n",
       "</div>"
      ],
      "text/plain": [
       "           id  categoria_id                   nombre  marca_id  volumen  \\\n",
       "8094   116587          19.0  Turi Vodka Estonian Dno      47.0      750   \n",
       "8104   207115          19.0          Mezzaluna Vodka      47.0      750   \n",
       "8798   357802          11.0          Littlemill 12yr      63.0      750   \n",
       "9940    51360          19.0      Hammer Sickle Vodka     112.0      750   \n",
       "10090  310556          24.0        Voo Doo Spice Rum     139.0      750   \n",
       "\n",
       "       precio  \n",
       "8094      0.0  \n",
       "8104      0.0  \n",
       "8798      0.0  \n",
       "9940      0.0  \n",
       "10090     0.0  "
      ]
     },
     "execution_count": 18,
     "metadata": {},
     "output_type": "execute_result"
    }
   ],
   "source": [
    "producto[producto[\"precio\"]==0]"
   ]
  },
  {
   "cell_type": "markdown",
   "id": "ba5359d0",
   "metadata": {},
   "source": [
    "Los volumen cero se eliminaran y para el precio 0 se les asignara la media del precio de la categoria y volumen que tienen registrado, esta ultima accion podra ser ejecutada hasta que se corrijan los problemas de nulos de las columnas"
   ]
  },
  {
   "cell_type": "code",
   "execution_count": 19,
   "id": "2d66b0d4",
   "metadata": {},
   "outputs": [],
   "source": [
    "producto = producto[producto[\"volumen\"]!=0]"
   ]
  },
  {
   "cell_type": "code",
   "execution_count": 20,
   "id": "2f625ca8",
   "metadata": {},
   "outputs": [
    {
     "data": {
      "text/html": [
       "<div>\n",
       "<style scoped>\n",
       "    .dataframe tbody tr th:only-of-type {\n",
       "        vertical-align: middle;\n",
       "    }\n",
       "\n",
       "    .dataframe tbody tr th {\n",
       "        vertical-align: top;\n",
       "    }\n",
       "\n",
       "    .dataframe thead th {\n",
       "        text-align: right;\n",
       "    }\n",
       "</style>\n",
       "<table border=\"1\" class=\"dataframe\">\n",
       "  <thead>\n",
       "    <tr style=\"text-align: right;\">\n",
       "      <th></th>\n",
       "      <th>id</th>\n",
       "      <th>categoria_id</th>\n",
       "      <th>nombre</th>\n",
       "      <th>marca_id</th>\n",
       "      <th>volumen</th>\n",
       "      <th>precio</th>\n",
       "    </tr>\n",
       "  </thead>\n",
       "  <tbody>\n",
       "    <tr>\n",
       "      <th>1146</th>\n",
       "      <td>218626</td>\n",
       "      <td>28.0</td>\n",
       "      <td>Dr. Mcgillicuddy's Cherry Schnapps</td>\n",
       "      <td>3.0</td>\n",
       "      <td>375</td>\n",
       "      <td>NaN</td>\n",
       "    </tr>\n",
       "    <tr>\n",
       "      <th>4178</th>\n",
       "      <td>281544</td>\n",
       "      <td>36.0</td>\n",
       "      <td>E &amp; J Cask &amp; Cream (dno)</td>\n",
       "      <td>18.0</td>\n",
       "      <td>375</td>\n",
       "      <td>NaN</td>\n",
       "    </tr>\n",
       "    <tr>\n",
       "      <th>6144</th>\n",
       "      <td>17189</td>\n",
       "      <td>11.0</td>\n",
       "      <td>Glen Keith Sing Malt Scotch(dno)</td>\n",
       "      <td>7.0</td>\n",
       "      <td>750</td>\n",
       "      <td>NaN</td>\n",
       "    </tr>\n",
       "    <tr>\n",
       "      <th>6442</th>\n",
       "      <td>151538</td>\n",
       "      <td>8.0</td>\n",
       "      <td>Barton Light Rum</td>\n",
       "      <td>19.0</td>\n",
       "      <td>1750</td>\n",
       "      <td>NaN</td>\n",
       "    </tr>\n",
       "    <tr>\n",
       "      <th>7864</th>\n",
       "      <td>51354</td>\n",
       "      <td>19.0</td>\n",
       "      <td>Boru Crazzberry Vodka</td>\n",
       "      <td>40.0</td>\n",
       "      <td>750</td>\n",
       "      <td>NaN</td>\n",
       "    </tr>\n",
       "    <tr>\n",
       "      <th>10983</th>\n",
       "      <td>189604</td>\n",
       "      <td>55.0</td>\n",
       "      <td>Brandy Stock 191.2</td>\n",
       "      <td>250.0</td>\n",
       "      <td>15000</td>\n",
       "      <td>NaN</td>\n",
       "    </tr>\n",
       "  </tbody>\n",
       "</table>\n",
       "</div>"
      ],
      "text/plain": [
       "           id  categoria_id                              nombre  marca_id  \\\n",
       "1146   218626          28.0  Dr. Mcgillicuddy's Cherry Schnapps       3.0   \n",
       "4178   281544          36.0            E & J Cask & Cream (dno)      18.0   \n",
       "6144    17189          11.0    Glen Keith Sing Malt Scotch(dno)       7.0   \n",
       "6442   151538           8.0                    Barton Light Rum      19.0   \n",
       "7864    51354          19.0               Boru Crazzberry Vodka      40.0   \n",
       "10983  189604          55.0                  Brandy Stock 191.2     250.0   \n",
       "\n",
       "       volumen  precio  \n",
       "1146       375     NaN  \n",
       "4178       375     NaN  \n",
       "6144       750     NaN  \n",
       "6442      1750     NaN  \n",
       "7864       750     NaN  \n",
       "10983    15000     NaN  "
      ]
     },
     "execution_count": 20,
     "metadata": {},
     "output_type": "execute_result"
    }
   ],
   "source": [
    "producto[producto[\"precio\"].isnull()]"
   ]
  },
  {
   "cell_type": "code",
   "execution_count": 21,
   "id": "bd5b571d",
   "metadata": {},
   "outputs": [
    {
     "data": {
      "text/plain": [
       "5.31"
      ]
     },
     "execution_count": 21,
     "metadata": {},
     "output_type": "execute_result"
    }
   ],
   "source": [
    "producto[(producto[\"categoria_id\"]==28) & ( producto[\"volumen\"]==375)][\"precio\"].median()"
   ]
  },
  {
   "cell_type": "markdown",
   "id": "3054607e",
   "metadata": {},
   "source": [
    "Los precios faltantes se les asignará la moda del precio de la categoria a la que pertenece, con el mismo volumen."
   ]
  },
  {
   "cell_type": "code",
   "execution_count": 22,
   "id": "5d3846e5",
   "metadata": {},
   "outputs": [],
   "source": [
    "producto[\"precio\"] = producto[\"precio\"].fillna(\n",
    "    producto.groupby([\"categoria_id\", \"volumen\"])[\"precio\"].transform(\"median\")\n",
    ")"
   ]
  },
  {
   "cell_type": "code",
   "execution_count": 23,
   "id": "0b90c559",
   "metadata": {},
   "outputs": [
    {
     "data": {
      "text/plain": [
       "array(['Generic Drink'], dtype=object)"
      ]
     },
     "execution_count": 23,
     "metadata": {},
     "output_type": "execute_result"
    }
   ],
   "source": [
    "producto[producto[\"marca_id\"].isnull() & producto[\"categoria_id\"].isnull()][\"nombre\"].unique()"
   ]
  },
  {
   "cell_type": "markdown",
   "id": "bdf64da0",
   "metadata": {},
   "source": [
    "Debido a que todos los casos de marca_id null coinciden con categoria_id null, y el nombre es el mismo en todos los registros, se unificara la categoria como \"OTHER\" y la marca \"OTHER\""
   ]
  },
  {
   "cell_type": "code",
   "execution_count": 24,
   "id": "341ce92e",
   "metadata": {},
   "outputs": [
    {
     "data": {
      "text/html": [
       "<div>\n",
       "<style scoped>\n",
       "    .dataframe tbody tr th:only-of-type {\n",
       "        vertical-align: middle;\n",
       "    }\n",
       "\n",
       "    .dataframe tbody tr th {\n",
       "        vertical-align: top;\n",
       "    }\n",
       "\n",
       "    .dataframe thead th {\n",
       "        text-align: right;\n",
       "    }\n",
       "</style>\n",
       "<table border=\"1\" class=\"dataframe\">\n",
       "  <thead>\n",
       "    <tr style=\"text-align: right;\">\n",
       "      <th></th>\n",
       "      <th>id</th>\n",
       "      <th>marca</th>\n",
       "    </tr>\n",
       "  </thead>\n",
       "  <tbody>\n",
       "    <tr>\n",
       "      <th>303</th>\n",
       "      <td>304</td>\n",
       "      <td>IOWA ABD</td>\n",
       "    </tr>\n",
       "    <tr>\n",
       "      <th>304</th>\n",
       "      <td>305</td>\n",
       "      <td>PARK STREET-G'DAY</td>\n",
       "    </tr>\n",
       "    <tr>\n",
       "      <th>305</th>\n",
       "      <td>306</td>\n",
       "      <td>ROYAL WINE CORPORATION</td>\n",
       "    </tr>\n",
       "    <tr>\n",
       "      <th>306</th>\n",
       "      <td>307</td>\n",
       "      <td>PURPLE VALLEY IMPORTS</td>\n",
       "    </tr>\n",
       "    <tr>\n",
       "      <th>307</th>\n",
       "      <td>308</td>\n",
       "      <td>OTHER</td>\n",
       "    </tr>\n",
       "  </tbody>\n",
       "</table>\n",
       "</div>"
      ],
      "text/plain": [
       "      id                   marca\n",
       "303  304                IOWA ABD\n",
       "304  305       PARK STREET-G'DAY\n",
       "305  306  ROYAL WINE CORPORATION\n",
       "306  307   PURPLE VALLEY IMPORTS\n",
       "307  308                   OTHER"
      ]
     },
     "execution_count": 24,
     "metadata": {},
     "output_type": "execute_result"
    }
   ],
   "source": [
    "marca = pd.concat([marca, pd.DataFrame({\"id\": [308], \"marca\": [\"OTHER\"]})], ignore_index=True)\n",
    "marca.tail()"
   ]
  },
  {
   "cell_type": "code",
   "execution_count": 25,
   "id": "ff24ee18",
   "metadata": {},
   "outputs": [
    {
     "data": {
      "text/html": [
       "<div>\n",
       "<style scoped>\n",
       "    .dataframe tbody tr th:only-of-type {\n",
       "        vertical-align: middle;\n",
       "    }\n",
       "\n",
       "    .dataframe tbody tr th {\n",
       "        vertical-align: top;\n",
       "    }\n",
       "\n",
       "    .dataframe thead th {\n",
       "        text-align: right;\n",
       "    }\n",
       "</style>\n",
       "<table border=\"1\" class=\"dataframe\">\n",
       "  <thead>\n",
       "    <tr style=\"text-align: right;\">\n",
       "      <th></th>\n",
       "      <th>id</th>\n",
       "      <th>categoria</th>\n",
       "    </tr>\n",
       "  </thead>\n",
       "  <tbody>\n",
       "    <tr>\n",
       "      <th>97</th>\n",
       "      <td>98</td>\n",
       "      <td>AMARETTO - IMPORTED</td>\n",
       "    </tr>\n",
       "    <tr>\n",
       "      <th>98</th>\n",
       "      <td>99</td>\n",
       "      <td>HIGH PROOF BEER - AMERICAN</td>\n",
       "    </tr>\n",
       "    <tr>\n",
       "      <th>99</th>\n",
       "      <td>100</td>\n",
       "      <td>SPECIALTY ITEMS - SPIRITS - AME</td>\n",
       "    </tr>\n",
       "    <tr>\n",
       "      <th>100</th>\n",
       "      <td>101</td>\n",
       "      <td>IMPORTED VODKA - CHERRY</td>\n",
       "    </tr>\n",
       "    <tr>\n",
       "      <th>101</th>\n",
       "      <td>102</td>\n",
       "      <td>OTHER</td>\n",
       "    </tr>\n",
       "  </tbody>\n",
       "</table>\n",
       "</div>"
      ],
      "text/plain": [
       "      id                        categoria\n",
       "97    98              AMARETTO - IMPORTED\n",
       "98    99       HIGH PROOF BEER - AMERICAN\n",
       "99   100  SPECIALTY ITEMS - SPIRITS - AME\n",
       "100  101          IMPORTED VODKA - CHERRY\n",
       "101  102                            OTHER"
      ]
     },
     "execution_count": 25,
     "metadata": {},
     "output_type": "execute_result"
    }
   ],
   "source": [
    "categoria = pd.concat([categoria, pd.DataFrame({\"id\": [102], \"categoria\": [\"OTHER\"]})], ignore_index=True)\n",
    "categoria.tail()"
   ]
  },
  {
   "cell_type": "code",
   "execution_count": 26,
   "id": "3ae25d5a",
   "metadata": {},
   "outputs": [],
   "source": [
    "# Asignacion de valores en producto marca_id y categoria_id nulos\n",
    "producto.loc[\n",
    "    producto[\"marca_id\"].isnull() & producto[\"categoria_id\"].isnull(),\n",
    "    [\"marca_id\", \"categoria_id\"]\n",
    "] = [308, 102]"
   ]
  },
  {
   "cell_type": "code",
   "execution_count": 27,
   "id": "f278c59a",
   "metadata": {},
   "outputs": [
    {
     "data": {
      "text/plain": [
       "id              0\n",
       "categoria_id    0\n",
       "nombre          0\n",
       "marca_id        0\n",
       "volumen         0\n",
       "precio          0\n",
       "dtype: int64"
      ]
     },
     "execution_count": 27,
     "metadata": {},
     "output_type": "execute_result"
    }
   ],
   "source": [
    "producto[producto[\"nombre\"]==\"Generic Drink\"].isnull().sum() # Verificacion de la correccion"
   ]
  },
  {
   "cell_type": "code",
   "execution_count": 28,
   "id": "0363563b",
   "metadata": {},
   "outputs": [
    {
     "data": {
      "text/html": [
       "<div>\n",
       "<style scoped>\n",
       "    .dataframe tbody tr th:only-of-type {\n",
       "        vertical-align: middle;\n",
       "    }\n",
       "\n",
       "    .dataframe tbody tr th {\n",
       "        vertical-align: top;\n",
       "    }\n",
       "\n",
       "    .dataframe thead th {\n",
       "        text-align: right;\n",
       "    }\n",
       "</style>\n",
       "<table border=\"1\" class=\"dataframe\">\n",
       "  <thead>\n",
       "    <tr style=\"text-align: right;\">\n",
       "      <th></th>\n",
       "      <th>id</th>\n",
       "      <th>categoria_id</th>\n",
       "      <th>nombre</th>\n",
       "      <th>marca_id</th>\n",
       "      <th>volumen</th>\n",
       "      <th>precio</th>\n",
       "    </tr>\n",
       "  </thead>\n",
       "  <tbody>\n",
       "    <tr>\n",
       "      <th>2221</th>\n",
       "      <td>175668</td>\n",
       "      <td>NaN</td>\n",
       "      <td>Evan Williams Egg Nog</td>\n",
       "      <td>2.0</td>\n",
       "      <td>750</td>\n",
       "      <td>6.69</td>\n",
       "    </tr>\n",
       "    <tr>\n",
       "      <th>2830</th>\n",
       "      <td>396750</td>\n",
       "      <td>NaN</td>\n",
       "      <td>Hudson New York Corn</td>\n",
       "      <td>10.0</td>\n",
       "      <td>375</td>\n",
       "      <td>25.64</td>\n",
       "    </tr>\n",
       "    <tr>\n",
       "      <th>2955</th>\n",
       "      <td>260901</td>\n",
       "      <td>NaN</td>\n",
       "      <td>Svedka Stars &amp; Stripes</td>\n",
       "      <td>12.0</td>\n",
       "      <td>1750</td>\n",
       "      <td>22.11</td>\n",
       "    </tr>\n",
       "    <tr>\n",
       "      <th>2956</th>\n",
       "      <td>43831</td>\n",
       "      <td>NaN</td>\n",
       "      <td>Svedka Cucumber Lime Mini</td>\n",
       "      <td>12.0</td>\n",
       "      <td>600</td>\n",
       "      <td>12.84</td>\n",
       "    </tr>\n",
       "    <tr>\n",
       "      <th>2957</th>\n",
       "      <td>54292</td>\n",
       "      <td>NaN</td>\n",
       "      <td>Svedka Cucumber Lime</td>\n",
       "      <td>12.0</td>\n",
       "      <td>750</td>\n",
       "      <td>12.38</td>\n",
       "    </tr>\n",
       "    <tr>\n",
       "      <th>...</th>\n",
       "      <td>...</td>\n",
       "      <td>...</td>\n",
       "      <td>...</td>\n",
       "      <td>...</td>\n",
       "      <td>...</td>\n",
       "      <td>...</td>\n",
       "    </tr>\n",
       "    <tr>\n",
       "      <th>11145</th>\n",
       "      <td>241450</td>\n",
       "      <td>NaN</td>\n",
       "      <td>Cherry Heering</td>\n",
       "      <td>306.0</td>\n",
       "      <td>750</td>\n",
       "      <td>21.99</td>\n",
       "    </tr>\n",
       "    <tr>\n",
       "      <th>11146</th>\n",
       "      <td>313902</td>\n",
       "      <td>NaN</td>\n",
       "      <td>Amrut Peated Single Malt Whisky</td>\n",
       "      <td>307.0</td>\n",
       "      <td>750</td>\n",
       "      <td>59.00</td>\n",
       "    </tr>\n",
       "    <tr>\n",
       "      <th>11147</th>\n",
       "      <td>379480</td>\n",
       "      <td>NaN</td>\n",
       "      <td>The English Whisky Co. Peated Cask Strength Si...</td>\n",
       "      <td>307.0</td>\n",
       "      <td>750</td>\n",
       "      <td>101.49</td>\n",
       "    </tr>\n",
       "    <tr>\n",
       "      <th>11148</th>\n",
       "      <td>120357</td>\n",
       "      <td>NaN</td>\n",
       "      <td>Sullivans Cove Double Cask Single Malt HA</td>\n",
       "      <td>307.0</td>\n",
       "      <td>750</td>\n",
       "      <td>111.26</td>\n",
       "    </tr>\n",
       "    <tr>\n",
       "      <th>11149</th>\n",
       "      <td>295066</td>\n",
       "      <td>NaN</td>\n",
       "      <td>Sullivans Cove American Cask Single Malt Whisk...</td>\n",
       "      <td>307.0</td>\n",
       "      <td>750</td>\n",
       "      <td>146.22</td>\n",
       "    </tr>\n",
       "  </tbody>\n",
       "</table>\n",
       "<p>150 rows × 6 columns</p>\n",
       "</div>"
      ],
      "text/plain": [
       "           id  categoria_id  \\\n",
       "2221   175668           NaN   \n",
       "2830   396750           NaN   \n",
       "2955   260901           NaN   \n",
       "2956    43831           NaN   \n",
       "2957    54292           NaN   \n",
       "...       ...           ...   \n",
       "11145  241450           NaN   \n",
       "11146  313902           NaN   \n",
       "11147  379480           NaN   \n",
       "11148  120357           NaN   \n",
       "11149  295066           NaN   \n",
       "\n",
       "                                                  nombre  marca_id  volumen  \\\n",
       "2221                               Evan Williams Egg Nog       2.0      750   \n",
       "2830                                Hudson New York Corn      10.0      375   \n",
       "2955                              Svedka Stars & Stripes      12.0     1750   \n",
       "2956                           Svedka Cucumber Lime Mini      12.0      600   \n",
       "2957                                Svedka Cucumber Lime      12.0      750   \n",
       "...                                                  ...       ...      ...   \n",
       "11145                                     Cherry Heering     306.0      750   \n",
       "11146                    Amrut Peated Single Malt Whisky     307.0      750   \n",
       "11147  The English Whisky Co. Peated Cask Strength Si...     307.0      750   \n",
       "11148          Sullivans Cove Double Cask Single Malt HA     307.0      750   \n",
       "11149  Sullivans Cove American Cask Single Malt Whisk...     307.0      750   \n",
       "\n",
       "       precio  \n",
       "2221     6.69  \n",
       "2830    25.64  \n",
       "2955    22.11  \n",
       "2956    12.84  \n",
       "2957    12.38  \n",
       "...       ...  \n",
       "11145   21.99  \n",
       "11146   59.00  \n",
       "11147  101.49  \n",
       "11148  111.26  \n",
       "11149  146.22  \n",
       "\n",
       "[150 rows x 6 columns]"
      ]
     },
     "execution_count": 28,
     "metadata": {},
     "output_type": "execute_result"
    }
   ],
   "source": [
    "producto[producto[\"categoria_id\"].isnull()]"
   ]
  },
  {
   "cell_type": "markdown",
   "id": "62733f41",
   "metadata": {},
   "source": [
    "Las categorias nulas se les colocará la moda de marca_id y el volumen"
   ]
  },
  {
   "cell_type": "code",
   "execution_count": null,
   "id": "2c957167",
   "metadata": {},
   "outputs": [],
   "source": [
    "producto[\"categoria_id\"] = producto[\"categoria_id\"].fillna(\n",
    "    producto.groupby([\"marca_id\", \"volumen\"])[\"categoria_id\"].transform(\"mode\")\n",
    ")"
   ]
  },
  {
   "cell_type": "code",
   "execution_count": 30,
   "id": "53d3bb69",
   "metadata": {},
   "outputs": [
    {
     "data": {
      "text/plain": [
       "16"
      ]
     },
     "execution_count": 30,
     "metadata": {},
     "output_type": "execute_result"
    }
   ],
   "source": [
    "len(producto[producto[\"categoria_id\"].isnull()])"
   ]
  },
  {
   "cell_type": "markdown",
   "id": "84644efe",
   "metadata": {},
   "source": [
    "Debido a que son pocos registros, los cuales no se ha encontrado que tengan una categoria con varias marca y volumen, se les asignara a la categoria \"OTHER\"."
   ]
  },
  {
   "cell_type": "code",
   "execution_count": 31,
   "id": "7cd9a450",
   "metadata": {},
   "outputs": [],
   "source": [
    "producto.loc[\n",
    "    producto[\"categoria_id\"].isnull(),\n",
    "    [\"categoria_id\"]\n",
    "] = 102"
   ]
  },
  {
   "cell_type": "code",
   "execution_count": 32,
   "id": "c45758ad",
   "metadata": {},
   "outputs": [
    {
     "data": {
      "text/plain": [
       "0"
      ]
     },
     "execution_count": 32,
     "metadata": {},
     "output_type": "execute_result"
    }
   ],
   "source": [
    "len(producto[producto[\"categoria_id\"].isnull()])"
   ]
  },
  {
   "cell_type": "code",
   "execution_count": 33,
   "id": "d830269e",
   "metadata": {},
   "outputs": [
    {
     "name": "stdout",
     "output_type": "stream",
     "text": [
      "<class 'pandas.core.frame.DataFrame'>\n",
      "Index: 12024 entries, 0 to 12025\n",
      "Data columns (total 6 columns):\n",
      " #   Column        Non-Null Count  Dtype  \n",
      "---  ------        --------------  -----  \n",
      " 0   id            12024 non-null  int64  \n",
      " 1   categoria_id  12024 non-null  float64\n",
      " 2   nombre        12024 non-null  object \n",
      " 3   marca_id      12024 non-null  float64\n",
      " 4   volumen       12024 non-null  int64  \n",
      " 5   precio        12024 non-null  float64\n",
      "dtypes: float64(3), int64(2), object(1)\n",
      "memory usage: 657.6+ KB\n"
     ]
    }
   ],
   "source": [
    "producto.info()"
   ]
  },
  {
   "cell_type": "markdown",
   "id": "671735f3",
   "metadata": {},
   "source": [
    "Tratados los datos faltantes, se cambiara el tipo de dato"
   ]
  },
  {
   "cell_type": "code",
   "execution_count": 34,
   "id": "35c7bc7c",
   "metadata": {},
   "outputs": [],
   "source": [
    "producto[\"id\"] = producto[\"id\"].astype(\"int\")\n",
    "producto[\"categoria_id\"] = producto[\"categoria_id\"].astype(\"int\")\n",
    "producto[\"marca_id\"] = producto[\"marca_id\"].astype(\"int\")"
   ]
  },
  {
   "cell_type": "code",
   "execution_count": 35,
   "id": "b57fc4d0",
   "metadata": {},
   "outputs": [],
   "source": [
    "producto[\"nombre\"] = producto[\"nombre\"].str.upper()"
   ]
  },
  {
   "cell_type": "code",
   "execution_count": 36,
   "id": "a376a31d",
   "metadata": {},
   "outputs": [
    {
     "name": "stdout",
     "output_type": "stream",
     "text": [
      "<class 'pandas.core.frame.DataFrame'>\n",
      "Index: 12024 entries, 0 to 12025\n",
      "Data columns (total 6 columns):\n",
      " #   Column        Non-Null Count  Dtype  \n",
      "---  ------        --------------  -----  \n",
      " 0   id            12024 non-null  int32  \n",
      " 1   categoria_id  12024 non-null  int32  \n",
      " 2   nombre        12024 non-null  object \n",
      " 3   marca_id      12024 non-null  int32  \n",
      " 4   volumen       12024 non-null  int64  \n",
      " 5   precio        12024 non-null  float64\n",
      "dtypes: float64(1), int32(3), int64(1), object(1)\n",
      "memory usage: 516.7+ KB\n"
     ]
    }
   ],
   "source": [
    "producto.info()"
   ]
  },
  {
   "cell_type": "markdown",
   "id": "2d6d72e2",
   "metadata": {},
   "source": [
    "### Limpieza clientes"
   ]
  },
  {
   "cell_type": "code",
   "execution_count": 37,
   "id": "d48e9970",
   "metadata": {},
   "outputs": [
    {
     "data": {
      "text/html": [
       "<div>\n",
       "<style scoped>\n",
       "    .dataframe tbody tr th:only-of-type {\n",
       "        vertical-align: middle;\n",
       "    }\n",
       "\n",
       "    .dataframe tbody tr th {\n",
       "        vertical-align: top;\n",
       "    }\n",
       "\n",
       "    .dataframe thead th {\n",
       "        text-align: right;\n",
       "    }\n",
       "</style>\n",
       "<table border=\"1\" class=\"dataframe\">\n",
       "  <thead>\n",
       "    <tr style=\"text-align: right;\">\n",
       "      <th></th>\n",
       "      <th>id</th>\n",
       "      <th>nombre</th>\n",
       "      <th>apellido</th>\n",
       "      <th>nacimiento</th>\n",
       "      <th>genero</th>\n",
       "      <th>empresa</th>\n",
       "      <th>idioma</th>\n",
       "      <th>nit</th>\n",
       "      <th>puesto</th>\n",
       "      <th>ciudad</th>\n",
       "      <th>correo</th>\n",
       "      <th>telefono</th>\n",
       "    </tr>\n",
       "  </thead>\n",
       "  <tbody>\n",
       "    <tr>\n",
       "      <th>0</th>\n",
       "      <td>599528.0</td>\n",
       "      <td>Samuel</td>\n",
       "      <td>Ward</td>\n",
       "      <td>4/6/89</td>\n",
       "      <td>Male</td>\n",
       "      <td>Yakijo</td>\n",
       "      <td>Marathi</td>\n",
       "      <td>411-44-7088</td>\n",
       "      <td>Geologist IV</td>\n",
       "      <td>Wangjing</td>\n",
       "      <td>sward0@tamu.edu</td>\n",
       "      <td>86-(786)608-5061</td>\n",
       "    </tr>\n",
       "    <tr>\n",
       "      <th>1</th>\n",
       "      <td>121688.0</td>\n",
       "      <td>Willie</td>\n",
       "      <td>Gonzales</td>\n",
       "      <td>6/29/72</td>\n",
       "      <td>Male</td>\n",
       "      <td>Zoonoodle</td>\n",
       "      <td>Maltese</td>\n",
       "      <td>701-87-7540</td>\n",
       "      <td>Programmer III</td>\n",
       "      <td>El Corozo</td>\n",
       "      <td>wgonzales1@apache.org</td>\n",
       "      <td>58-(265)301-3397</td>\n",
       "    </tr>\n",
       "    <tr>\n",
       "      <th>2</th>\n",
       "      <td>552148.0</td>\n",
       "      <td>Betty</td>\n",
       "      <td>Spencer</td>\n",
       "      <td>9/2/83</td>\n",
       "      <td>Female</td>\n",
       "      <td>Youtags</td>\n",
       "      <td>Dhivehi</td>\n",
       "      <td>373-88-4503</td>\n",
       "      <td>Engineer III</td>\n",
       "      <td>Jinhua</td>\n",
       "      <td>bspencer2@shutterfly.com</td>\n",
       "      <td>86-(195)193-9042</td>\n",
       "    </tr>\n",
       "    <tr>\n",
       "      <th>3</th>\n",
       "      <td>102019.0</td>\n",
       "      <td>Beverly</td>\n",
       "      <td>Jordan</td>\n",
       "      <td>1/15/72</td>\n",
       "      <td>Female</td>\n",
       "      <td>Fivespan</td>\n",
       "      <td>Hindi</td>\n",
       "      <td>447-80-5871</td>\n",
       "      <td>Software Test Engineer IV</td>\n",
       "      <td>Salvacion</td>\n",
       "      <td>bjordan3@vimeo.com</td>\n",
       "      <td>63-(652)708-7688</td>\n",
       "    </tr>\n",
       "    <tr>\n",
       "      <th>4</th>\n",
       "      <td>189384.0</td>\n",
       "      <td>Cynthia</td>\n",
       "      <td>Flores</td>\n",
       "      <td>2/6/71</td>\n",
       "      <td>Female</td>\n",
       "      <td>Jabbersphere</td>\n",
       "      <td>Tsonga</td>\n",
       "      <td>803-60-8259</td>\n",
       "      <td>Speech Pathologist</td>\n",
       "      <td>Khorol</td>\n",
       "      <td>cflores4@webeden.co.uk</td>\n",
       "      <td>380-(373)389-5435</td>\n",
       "    </tr>\n",
       "  </tbody>\n",
       "</table>\n",
       "</div>"
      ],
      "text/plain": [
       "         id   nombre  apellido nacimiento  genero       empresa   idioma  \\\n",
       "0  599528.0   Samuel      Ward     4/6/89    Male        Yakijo  Marathi   \n",
       "1  121688.0   Willie  Gonzales    6/29/72    Male     Zoonoodle  Maltese   \n",
       "2  552148.0    Betty   Spencer     9/2/83  Female       Youtags  Dhivehi   \n",
       "3  102019.0  Beverly    Jordan    1/15/72  Female      Fivespan    Hindi   \n",
       "4  189384.0  Cynthia    Flores     2/6/71  Female  Jabbersphere   Tsonga   \n",
       "\n",
       "           nit                     puesto     ciudad  \\\n",
       "0  411-44-7088               Geologist IV   Wangjing   \n",
       "1  701-87-7540             Programmer III  El Corozo   \n",
       "2  373-88-4503               Engineer III     Jinhua   \n",
       "3  447-80-5871  Software Test Engineer IV  Salvacion   \n",
       "4  803-60-8259         Speech Pathologist     Khorol   \n",
       "\n",
       "                     correo           telefono  \n",
       "0           sward0@tamu.edu   86-(786)608-5061  \n",
       "1     wgonzales1@apache.org   58-(265)301-3397  \n",
       "2  bspencer2@shutterfly.com   86-(195)193-9042  \n",
       "3        bjordan3@vimeo.com   63-(652)708-7688  \n",
       "4    cflores4@webeden.co.uk  380-(373)389-5435  "
      ]
     },
     "execution_count": 37,
     "metadata": {},
     "output_type": "execute_result"
    }
   ],
   "source": [
    "cliente.head()"
   ]
  },
  {
   "cell_type": "code",
   "execution_count": 38,
   "id": "46eff506",
   "metadata": {},
   "outputs": [
    {
     "data": {
      "text/plain": [
       "id            281\n",
       "nombre        281\n",
       "apellido      281\n",
       "nacimiento    281\n",
       "genero        281\n",
       "empresa       281\n",
       "idioma        281\n",
       "nit           281\n",
       "puesto        281\n",
       "ciudad        281\n",
       "correo        281\n",
       "telefono      281\n",
       "dtype: int64"
      ]
     },
     "execution_count": 38,
     "metadata": {},
     "output_type": "execute_result"
    }
   ],
   "source": [
    "cliente.isnull().sum()"
   ]
  },
  {
   "cell_type": "markdown",
   "id": "b29d36df",
   "metadata": {},
   "source": [
    "Coinciden muchos datos que sean nulos, primero se vera si hay duplicados en esos nulos"
   ]
  },
  {
   "cell_type": "code",
   "execution_count": 39,
   "id": "1d16a60b",
   "metadata": {},
   "outputs": [
    {
     "data": {
      "text/plain": [
       "280"
      ]
     },
     "execution_count": 39,
     "metadata": {},
     "output_type": "execute_result"
    }
   ],
   "source": [
    "cliente.duplicated().sum()"
   ]
  },
  {
   "cell_type": "code",
   "execution_count": 40,
   "id": "5ca61ef0",
   "metadata": {},
   "outputs": [
    {
     "data": {
      "text/html": [
       "<div>\n",
       "<style scoped>\n",
       "    .dataframe tbody tr th:only-of-type {\n",
       "        vertical-align: middle;\n",
       "    }\n",
       "\n",
       "    .dataframe tbody tr th {\n",
       "        vertical-align: top;\n",
       "    }\n",
       "\n",
       "    .dataframe thead th {\n",
       "        text-align: right;\n",
       "    }\n",
       "</style>\n",
       "<table border=\"1\" class=\"dataframe\">\n",
       "  <thead>\n",
       "    <tr style=\"text-align: right;\">\n",
       "      <th></th>\n",
       "      <th>id</th>\n",
       "      <th>nombre</th>\n",
       "      <th>apellido</th>\n",
       "      <th>nacimiento</th>\n",
       "      <th>genero</th>\n",
       "      <th>empresa</th>\n",
       "      <th>idioma</th>\n",
       "      <th>nit</th>\n",
       "      <th>puesto</th>\n",
       "      <th>ciudad</th>\n",
       "      <th>correo</th>\n",
       "      <th>telefono</th>\n",
       "    </tr>\n",
       "  </thead>\n",
       "  <tbody>\n",
       "    <tr>\n",
       "      <th>11720</th>\n",
       "      <td>NaN</td>\n",
       "      <td>NaN</td>\n",
       "      <td>NaN</td>\n",
       "      <td>NaN</td>\n",
       "      <td>NaN</td>\n",
       "      <td>NaN</td>\n",
       "      <td>NaN</td>\n",
       "      <td>NaN</td>\n",
       "      <td>NaN</td>\n",
       "      <td>NaN</td>\n",
       "      <td>NaN</td>\n",
       "      <td>NaN</td>\n",
       "    </tr>\n",
       "    <tr>\n",
       "      <th>11721</th>\n",
       "      <td>NaN</td>\n",
       "      <td>NaN</td>\n",
       "      <td>NaN</td>\n",
       "      <td>NaN</td>\n",
       "      <td>NaN</td>\n",
       "      <td>NaN</td>\n",
       "      <td>NaN</td>\n",
       "      <td>NaN</td>\n",
       "      <td>NaN</td>\n",
       "      <td>NaN</td>\n",
       "      <td>NaN</td>\n",
       "      <td>NaN</td>\n",
       "    </tr>\n",
       "    <tr>\n",
       "      <th>11722</th>\n",
       "      <td>NaN</td>\n",
       "      <td>NaN</td>\n",
       "      <td>NaN</td>\n",
       "      <td>NaN</td>\n",
       "      <td>NaN</td>\n",
       "      <td>NaN</td>\n",
       "      <td>NaN</td>\n",
       "      <td>NaN</td>\n",
       "      <td>NaN</td>\n",
       "      <td>NaN</td>\n",
       "      <td>NaN</td>\n",
       "      <td>NaN</td>\n",
       "    </tr>\n",
       "    <tr>\n",
       "      <th>11723</th>\n",
       "      <td>NaN</td>\n",
       "      <td>NaN</td>\n",
       "      <td>NaN</td>\n",
       "      <td>NaN</td>\n",
       "      <td>NaN</td>\n",
       "      <td>NaN</td>\n",
       "      <td>NaN</td>\n",
       "      <td>NaN</td>\n",
       "      <td>NaN</td>\n",
       "      <td>NaN</td>\n",
       "      <td>NaN</td>\n",
       "      <td>NaN</td>\n",
       "    </tr>\n",
       "    <tr>\n",
       "      <th>11724</th>\n",
       "      <td>NaN</td>\n",
       "      <td>NaN</td>\n",
       "      <td>NaN</td>\n",
       "      <td>NaN</td>\n",
       "      <td>NaN</td>\n",
       "      <td>NaN</td>\n",
       "      <td>NaN</td>\n",
       "      <td>NaN</td>\n",
       "      <td>NaN</td>\n",
       "      <td>NaN</td>\n",
       "      <td>NaN</td>\n",
       "      <td>NaN</td>\n",
       "    </tr>\n",
       "    <tr>\n",
       "      <th>...</th>\n",
       "      <td>...</td>\n",
       "      <td>...</td>\n",
       "      <td>...</td>\n",
       "      <td>...</td>\n",
       "      <td>...</td>\n",
       "      <td>...</td>\n",
       "      <td>...</td>\n",
       "      <td>...</td>\n",
       "      <td>...</td>\n",
       "      <td>...</td>\n",
       "      <td>...</td>\n",
       "      <td>...</td>\n",
       "    </tr>\n",
       "    <tr>\n",
       "      <th>11995</th>\n",
       "      <td>NaN</td>\n",
       "      <td>NaN</td>\n",
       "      <td>NaN</td>\n",
       "      <td>NaN</td>\n",
       "      <td>NaN</td>\n",
       "      <td>NaN</td>\n",
       "      <td>NaN</td>\n",
       "      <td>NaN</td>\n",
       "      <td>NaN</td>\n",
       "      <td>NaN</td>\n",
       "      <td>NaN</td>\n",
       "      <td>NaN</td>\n",
       "    </tr>\n",
       "    <tr>\n",
       "      <th>11996</th>\n",
       "      <td>NaN</td>\n",
       "      <td>NaN</td>\n",
       "      <td>NaN</td>\n",
       "      <td>NaN</td>\n",
       "      <td>NaN</td>\n",
       "      <td>NaN</td>\n",
       "      <td>NaN</td>\n",
       "      <td>NaN</td>\n",
       "      <td>NaN</td>\n",
       "      <td>NaN</td>\n",
       "      <td>NaN</td>\n",
       "      <td>NaN</td>\n",
       "    </tr>\n",
       "    <tr>\n",
       "      <th>11997</th>\n",
       "      <td>NaN</td>\n",
       "      <td>NaN</td>\n",
       "      <td>NaN</td>\n",
       "      <td>NaN</td>\n",
       "      <td>NaN</td>\n",
       "      <td>NaN</td>\n",
       "      <td>NaN</td>\n",
       "      <td>NaN</td>\n",
       "      <td>NaN</td>\n",
       "      <td>NaN</td>\n",
       "      <td>NaN</td>\n",
       "      <td>NaN</td>\n",
       "    </tr>\n",
       "    <tr>\n",
       "      <th>11998</th>\n",
       "      <td>NaN</td>\n",
       "      <td>NaN</td>\n",
       "      <td>NaN</td>\n",
       "      <td>NaN</td>\n",
       "      <td>NaN</td>\n",
       "      <td>NaN</td>\n",
       "      <td>NaN</td>\n",
       "      <td>NaN</td>\n",
       "      <td>NaN</td>\n",
       "      <td>NaN</td>\n",
       "      <td>NaN</td>\n",
       "      <td>NaN</td>\n",
       "    </tr>\n",
       "    <tr>\n",
       "      <th>11999</th>\n",
       "      <td>NaN</td>\n",
       "      <td>NaN</td>\n",
       "      <td>NaN</td>\n",
       "      <td>NaN</td>\n",
       "      <td>NaN</td>\n",
       "      <td>NaN</td>\n",
       "      <td>NaN</td>\n",
       "      <td>NaN</td>\n",
       "      <td>NaN</td>\n",
       "      <td>NaN</td>\n",
       "      <td>NaN</td>\n",
       "      <td>NaN</td>\n",
       "    </tr>\n",
       "  </tbody>\n",
       "</table>\n",
       "<p>280 rows × 12 columns</p>\n",
       "</div>"
      ],
      "text/plain": [
       "       id nombre apellido nacimiento genero empresa idioma  nit puesto ciudad  \\\n",
       "11720 NaN    NaN      NaN        NaN    NaN     NaN    NaN  NaN    NaN    NaN   \n",
       "11721 NaN    NaN      NaN        NaN    NaN     NaN    NaN  NaN    NaN    NaN   \n",
       "11722 NaN    NaN      NaN        NaN    NaN     NaN    NaN  NaN    NaN    NaN   \n",
       "11723 NaN    NaN      NaN        NaN    NaN     NaN    NaN  NaN    NaN    NaN   \n",
       "11724 NaN    NaN      NaN        NaN    NaN     NaN    NaN  NaN    NaN    NaN   \n",
       "...    ..    ...      ...        ...    ...     ...    ...  ...    ...    ...   \n",
       "11995 NaN    NaN      NaN        NaN    NaN     NaN    NaN  NaN    NaN    NaN   \n",
       "11996 NaN    NaN      NaN        NaN    NaN     NaN    NaN  NaN    NaN    NaN   \n",
       "11997 NaN    NaN      NaN        NaN    NaN     NaN    NaN  NaN    NaN    NaN   \n",
       "11998 NaN    NaN      NaN        NaN    NaN     NaN    NaN  NaN    NaN    NaN   \n",
       "11999 NaN    NaN      NaN        NaN    NaN     NaN    NaN  NaN    NaN    NaN   \n",
       "\n",
       "      correo telefono  \n",
       "11720    NaN      NaN  \n",
       "11721    NaN      NaN  \n",
       "11722    NaN      NaN  \n",
       "11723    NaN      NaN  \n",
       "11724    NaN      NaN  \n",
       "...      ...      ...  \n",
       "11995    NaN      NaN  \n",
       "11996    NaN      NaN  \n",
       "11997    NaN      NaN  \n",
       "11998    NaN      NaN  \n",
       "11999    NaN      NaN  \n",
       "\n",
       "[280 rows x 12 columns]"
      ]
     },
     "execution_count": 40,
     "metadata": {},
     "output_type": "execute_result"
    }
   ],
   "source": [
    "cliente[cliente.duplicated()]"
   ]
  },
  {
   "cell_type": "markdown",
   "id": "aadd9277",
   "metadata": {},
   "source": [
    "Se eliminaran los duplicados"
   ]
  },
  {
   "cell_type": "code",
   "execution_count": 41,
   "id": "ff9ac932",
   "metadata": {},
   "outputs": [],
   "source": [
    "cliente.drop_duplicates(inplace=True)"
   ]
  },
  {
   "cell_type": "code",
   "execution_count": 42,
   "id": "cad45c19",
   "metadata": {},
   "outputs": [
    {
     "data": {
      "text/plain": [
       "0"
      ]
     },
     "execution_count": 42,
     "metadata": {},
     "output_type": "execute_result"
    }
   ],
   "source": [
    "cliente.duplicated().sum()"
   ]
  },
  {
   "cell_type": "code",
   "execution_count": 43,
   "id": "461218d4",
   "metadata": {},
   "outputs": [
    {
     "data": {
      "text/plain": [
       "id            1\n",
       "nombre        1\n",
       "apellido      1\n",
       "nacimiento    1\n",
       "genero        1\n",
       "empresa       1\n",
       "idioma        1\n",
       "nit           1\n",
       "puesto        1\n",
       "ciudad        1\n",
       "correo        1\n",
       "telefono      1\n",
       "dtype: int64"
      ]
     },
     "execution_count": 43,
     "metadata": {},
     "output_type": "execute_result"
    }
   ],
   "source": [
    "cliente.isnull().sum()"
   ]
  },
  {
   "cell_type": "code",
   "execution_count": 44,
   "id": "064f3a3b",
   "metadata": {},
   "outputs": [
    {
     "data": {
      "text/html": [
       "<div>\n",
       "<style scoped>\n",
       "    .dataframe tbody tr th:only-of-type {\n",
       "        vertical-align: middle;\n",
       "    }\n",
       "\n",
       "    .dataframe tbody tr th {\n",
       "        vertical-align: top;\n",
       "    }\n",
       "\n",
       "    .dataframe thead th {\n",
       "        text-align: right;\n",
       "    }\n",
       "</style>\n",
       "<table border=\"1\" class=\"dataframe\">\n",
       "  <thead>\n",
       "    <tr style=\"text-align: right;\">\n",
       "      <th></th>\n",
       "      <th>id</th>\n",
       "      <th>nombre</th>\n",
       "      <th>apellido</th>\n",
       "      <th>nacimiento</th>\n",
       "      <th>genero</th>\n",
       "      <th>empresa</th>\n",
       "      <th>idioma</th>\n",
       "      <th>nit</th>\n",
       "      <th>puesto</th>\n",
       "      <th>ciudad</th>\n",
       "      <th>correo</th>\n",
       "      <th>telefono</th>\n",
       "    </tr>\n",
       "  </thead>\n",
       "  <tbody>\n",
       "    <tr>\n",
       "      <th>11719</th>\n",
       "      <td>NaN</td>\n",
       "      <td>NaN</td>\n",
       "      <td>NaN</td>\n",
       "      <td>NaN</td>\n",
       "      <td>NaN</td>\n",
       "      <td>NaN</td>\n",
       "      <td>NaN</td>\n",
       "      <td>NaN</td>\n",
       "      <td>NaN</td>\n",
       "      <td>NaN</td>\n",
       "      <td>NaN</td>\n",
       "      <td>NaN</td>\n",
       "    </tr>\n",
       "  </tbody>\n",
       "</table>\n",
       "</div>"
      ],
      "text/plain": [
       "       id nombre apellido nacimiento genero empresa idioma  nit puesto ciudad  \\\n",
       "11719 NaN    NaN      NaN        NaN    NaN     NaN    NaN  NaN    NaN    NaN   \n",
       "\n",
       "      correo telefono  \n",
       "11719    NaN      NaN  "
      ]
     },
     "execution_count": 44,
     "metadata": {},
     "output_type": "execute_result"
    }
   ],
   "source": [
    "cliente[cliente[\"id\"].isnull()]"
   ]
  },
  {
   "cell_type": "code",
   "execution_count": 45,
   "id": "4f0c77f2",
   "metadata": {},
   "outputs": [],
   "source": [
    "cliente.dropna(inplace=True)"
   ]
  },
  {
   "cell_type": "markdown",
   "id": "e5b59419",
   "metadata": {},
   "source": [
    "Unificacion de columnas de nombre y apellido"
   ]
  },
  {
   "cell_type": "code",
   "execution_count": 46,
   "id": "c8c94ac5",
   "metadata": {},
   "outputs": [],
   "source": [
    "cliente[\"nombre\"] = cliente[\"nombre\"]+\" \"+cliente[\"apellido\"]\n",
    "cliente.drop(columns=[\"apellido\"], inplace=True)"
   ]
  },
  {
   "cell_type": "code",
   "execution_count": 47,
   "id": "3ea5a1c8",
   "metadata": {},
   "outputs": [
    {
     "name": "stdout",
     "output_type": "stream",
     "text": [
      "Unique counts per column (using nunique()):\n",
      "id            11719\n",
      "nombre        11475\n",
      "nacimiento     7547\n",
      "genero            2\n",
      "empresa         383\n",
      "idioma           97\n",
      "nit           11719\n",
      "puesto          195\n",
      "ciudad         9356\n",
      "correo        11719\n",
      "telefono      11719\n",
      "dtype: int64\n"
     ]
    }
   ],
   "source": [
    "unique_counts = cliente.nunique()\n",
    "print(\"Unique counts per column (using nunique()):\")\n",
    "print(unique_counts)"
   ]
  },
  {
   "cell_type": "code",
   "execution_count": 48,
   "id": "5504c9ec",
   "metadata": {},
   "outputs": [
    {
     "name": "stdout",
     "output_type": "stream",
     "text": [
      "<class 'pandas.core.frame.DataFrame'>\n",
      "Index: 11719 entries, 0 to 11718\n",
      "Data columns (total 11 columns):\n",
      " #   Column      Non-Null Count  Dtype  \n",
      "---  ------      --------------  -----  \n",
      " 0   id          11719 non-null  float64\n",
      " 1   nombre      11719 non-null  object \n",
      " 2   nacimiento  11719 non-null  object \n",
      " 3   genero      11719 non-null  object \n",
      " 4   empresa     11719 non-null  object \n",
      " 5   idioma      11719 non-null  object \n",
      " 6   nit         11719 non-null  object \n",
      " 7   puesto      11719 non-null  object \n",
      " 8   ciudad      11719 non-null  object \n",
      " 9   correo      11719 non-null  object \n",
      " 10  telefono    11719 non-null  object \n",
      "dtypes: float64(1), object(10)\n",
      "memory usage: 1.1+ MB\n"
     ]
    }
   ],
   "source": [
    "cliente.info()"
   ]
  },
  {
   "cell_type": "code",
   "execution_count": 49,
   "id": "ceb5557c",
   "metadata": {},
   "outputs": [],
   "source": [
    "cliente[\"id\"] = cliente[\"id\"].astype(\"int\")"
   ]
  },
  {
   "cell_type": "code",
   "execution_count": null,
   "id": "b97edec5",
   "metadata": {},
   "outputs": [],
   "source": [
    "cliente[\"nacimiento\"] = cliente[\"nacimiento\"].map(parse_mdY)"
   ]
  },
  {
   "cell_type": "code",
   "execution_count": 51,
   "id": "3a205024",
   "metadata": {},
   "outputs": [
    {
     "data": {
      "text/plain": [
       "(Timestamp('2000-06-30 00:00:00'), Timestamp('1940-05-28 00:00:00'))"
      ]
     },
     "execution_count": 51,
     "metadata": {},
     "output_type": "execute_result"
    }
   ],
   "source": [
    "max(cliente[\"nacimiento\"]), min(cliente[\"nacimiento\"])"
   ]
  },
  {
   "cell_type": "code",
   "execution_count": 52,
   "id": "044d7b43",
   "metadata": {},
   "outputs": [
    {
     "data": {
      "text/plain": [
       "count    11719.000000\n",
       "mean        42.116990\n",
       "std         16.462302\n",
       "min         25.000000\n",
       "25%         30.000000\n",
       "50%         36.000000\n",
       "75%         51.000000\n",
       "max         85.000000\n",
       "Name: edad, dtype: float64"
      ]
     },
     "execution_count": 52,
     "metadata": {},
     "output_type": "execute_result"
    }
   ],
   "source": [
    "cliente[\"edad\"] = datetime.datetime.now().year - cliente[\"nacimiento\"].dt.year\n",
    "cliente[\"edad\"].describe()"
   ]
  },
  {
   "cell_type": "code",
   "execution_count": 53,
   "id": "b5fb88c0",
   "metadata": {},
   "outputs": [],
   "source": [
    "cliente.drop(columns=[\"nit\",\"correo\",\"telefono\"], inplace=True)"
   ]
  },
  {
   "cell_type": "code",
   "execution_count": 54,
   "id": "a3500111",
   "metadata": {},
   "outputs": [],
   "source": [
    "cliente[\"nombre\"] = cliente[\"nombre\"].str.upper()\n",
    "cliente[\"genero\"] = cliente[\"genero\"].str.upper()\n",
    "cliente[\"genero\"] = cliente[\"genero\"].replace({\"F\": \"FEMALE\", \"M\": \"MALE\"})\n",
    "cliente[\"empresa\"] = cliente[\"empresa\"].str.upper()\n",
    "cliente[\"idioma\"] = cliente[\"idioma\"].str.upper()\n",
    "cliente[\"puesto\"] = cliente[\"puesto\"].str.upper()\n",
    "cliente[\"ciudad\"] = cliente[\"ciudad\"].str.upper()"
   ]
  },
  {
   "cell_type": "markdown",
   "id": "54ff4a31",
   "metadata": {},
   "source": [
    "### Limpieza events"
   ]
  },
  {
   "cell_type": "code",
   "execution_count": 55,
   "id": "baeb2a7b",
   "metadata": {},
   "outputs": [
    {
     "data": {
      "text/html": [
       "<div>\n",
       "<style scoped>\n",
       "    .dataframe tbody tr th:only-of-type {\n",
       "        vertical-align: middle;\n",
       "    }\n",
       "\n",
       "    .dataframe tbody tr th {\n",
       "        vertical-align: top;\n",
       "    }\n",
       "\n",
       "    .dataframe thead th {\n",
       "        text-align: right;\n",
       "    }\n",
       "</style>\n",
       "<table border=\"1\" class=\"dataframe\">\n",
       "  <thead>\n",
       "    <tr style=\"text-align: right;\">\n",
       "      <th></th>\n",
       "      <th>timestamp</th>\n",
       "      <th>visitorid</th>\n",
       "      <th>event</th>\n",
       "      <th>itemid</th>\n",
       "      <th>transactionid</th>\n",
       "    </tr>\n",
       "  </thead>\n",
       "  <tbody>\n",
       "    <tr>\n",
       "      <th>0</th>\n",
       "      <td>1433221332117</td>\n",
       "      <td>257597</td>\n",
       "      <td>view</td>\n",
       "      <td>355908</td>\n",
       "      <td>NaN</td>\n",
       "    </tr>\n",
       "    <tr>\n",
       "      <th>1</th>\n",
       "      <td>1433224214164</td>\n",
       "      <td>992329</td>\n",
       "      <td>view</td>\n",
       "      <td>248676</td>\n",
       "      <td>NaN</td>\n",
       "    </tr>\n",
       "    <tr>\n",
       "      <th>2</th>\n",
       "      <td>1433221999827</td>\n",
       "      <td>111016</td>\n",
       "      <td>view</td>\n",
       "      <td>318965</td>\n",
       "      <td>NaN</td>\n",
       "    </tr>\n",
       "    <tr>\n",
       "      <th>3</th>\n",
       "      <td>1433221955914</td>\n",
       "      <td>483717</td>\n",
       "      <td>view</td>\n",
       "      <td>253185</td>\n",
       "      <td>NaN</td>\n",
       "    </tr>\n",
       "    <tr>\n",
       "      <th>4</th>\n",
       "      <td>1433221337106</td>\n",
       "      <td>951259</td>\n",
       "      <td>view</td>\n",
       "      <td>367447</td>\n",
       "      <td>NaN</td>\n",
       "    </tr>\n",
       "  </tbody>\n",
       "</table>\n",
       "</div>"
      ],
      "text/plain": [
       "       timestamp  visitorid event  itemid  transactionid\n",
       "0  1433221332117     257597  view  355908            NaN\n",
       "1  1433224214164     992329  view  248676            NaN\n",
       "2  1433221999827     111016  view  318965            NaN\n",
       "3  1433221955914     483717  view  253185            NaN\n",
       "4  1433221337106     951259  view  367447            NaN"
      ]
     },
     "execution_count": 55,
     "metadata": {},
     "output_type": "execute_result"
    }
   ],
   "source": [
    "events.head()"
   ]
  },
  {
   "cell_type": "code",
   "execution_count": 56,
   "id": "11420487",
   "metadata": {},
   "outputs": [
    {
     "name": "stdout",
     "output_type": "stream",
     "text": [
      "<class 'pandas.core.frame.DataFrame'>\n",
      "RangeIndex: 2756101 entries, 0 to 2756100\n",
      "Data columns (total 5 columns):\n",
      " #   Column         Dtype  \n",
      "---  ------         -----  \n",
      " 0   timestamp      int64  \n",
      " 1   visitorid      int64  \n",
      " 2   event          object \n",
      " 3   itemid         int64  \n",
      " 4   transactionid  float64\n",
      "dtypes: float64(1), int64(3), object(1)\n",
      "memory usage: 105.1+ MB\n"
     ]
    }
   ],
   "source": [
    "events.info()"
   ]
  },
  {
   "cell_type": "code",
   "execution_count": 57,
   "id": "c727c346",
   "metadata": {},
   "outputs": [
    {
     "data": {
      "text/html": [
       "<div>\n",
       "<style scoped>\n",
       "    .dataframe tbody tr th:only-of-type {\n",
       "        vertical-align: middle;\n",
       "    }\n",
       "\n",
       "    .dataframe tbody tr th {\n",
       "        vertical-align: top;\n",
       "    }\n",
       "\n",
       "    .dataframe thead th {\n",
       "        text-align: right;\n",
       "    }\n",
       "</style>\n",
       "<table border=\"1\" class=\"dataframe\">\n",
       "  <thead>\n",
       "    <tr style=\"text-align: right;\">\n",
       "      <th></th>\n",
       "      <th>visitorid</th>\n",
       "      <th>event</th>\n",
       "      <th>itemid</th>\n",
       "      <th>transactionid</th>\n",
       "      <th>fecha</th>\n",
       "    </tr>\n",
       "  </thead>\n",
       "  <tbody>\n",
       "    <tr>\n",
       "      <th>0</th>\n",
       "      <td>257597</td>\n",
       "      <td>view</td>\n",
       "      <td>355908</td>\n",
       "      <td>NaN</td>\n",
       "      <td>2015-06-02 05:02:12.117</td>\n",
       "    </tr>\n",
       "    <tr>\n",
       "      <th>1</th>\n",
       "      <td>992329</td>\n",
       "      <td>view</td>\n",
       "      <td>248676</td>\n",
       "      <td>NaN</td>\n",
       "      <td>2015-06-02 05:50:14.164</td>\n",
       "    </tr>\n",
       "    <tr>\n",
       "      <th>2</th>\n",
       "      <td>111016</td>\n",
       "      <td>view</td>\n",
       "      <td>318965</td>\n",
       "      <td>NaN</td>\n",
       "      <td>2015-06-02 05:13:19.827</td>\n",
       "    </tr>\n",
       "    <tr>\n",
       "      <th>3</th>\n",
       "      <td>483717</td>\n",
       "      <td>view</td>\n",
       "      <td>253185</td>\n",
       "      <td>NaN</td>\n",
       "      <td>2015-06-02 05:12:35.914</td>\n",
       "    </tr>\n",
       "    <tr>\n",
       "      <th>4</th>\n",
       "      <td>951259</td>\n",
       "      <td>view</td>\n",
       "      <td>367447</td>\n",
       "      <td>NaN</td>\n",
       "      <td>2015-06-02 05:02:17.106</td>\n",
       "    </tr>\n",
       "  </tbody>\n",
       "</table>\n",
       "</div>"
      ],
      "text/plain": [
       "   visitorid event  itemid  transactionid                   fecha\n",
       "0     257597  view  355908            NaN 2015-06-02 05:02:12.117\n",
       "1     992329  view  248676            NaN 2015-06-02 05:50:14.164\n",
       "2     111016  view  318965            NaN 2015-06-02 05:13:19.827\n",
       "3     483717  view  253185            NaN 2015-06-02 05:12:35.914\n",
       "4     951259  view  367447            NaN 2015-06-02 05:02:17.106"
      ]
     },
     "execution_count": 57,
     "metadata": {},
     "output_type": "execute_result"
    }
   ],
   "source": [
    "events[\"fecha\"] = pd.to_datetime(events[\"timestamp\"], unit=\"ms\")\n",
    "events.drop(columns=[\"timestamp\"], inplace=True)\n",
    "events.head()"
   ]
  },
  {
   "cell_type": "code",
   "execution_count": 58,
   "id": "df8d4646",
   "metadata": {},
   "outputs": [
    {
     "data": {
      "text/plain": [
       "460"
      ]
     },
     "execution_count": 58,
     "metadata": {},
     "output_type": "execute_result"
    }
   ],
   "source": [
    "events.duplicated().sum()"
   ]
  },
  {
   "cell_type": "code",
   "execution_count": 59,
   "id": "0c91a035",
   "metadata": {},
   "outputs": [],
   "source": [
    "events.drop_duplicates(inplace=True)"
   ]
  },
  {
   "cell_type": "code",
   "execution_count": 60,
   "id": "2e96e23f",
   "metadata": {},
   "outputs": [
    {
     "data": {
      "text/plain": [
       "visitorid              0\n",
       "event                  0\n",
       "itemid                 0\n",
       "transactionid    2733184\n",
       "fecha                  0\n",
       "dtype: int64"
      ]
     },
     "execution_count": 60,
     "metadata": {},
     "output_type": "execute_result"
    }
   ],
   "source": [
    "events.isnull().sum()"
   ]
  },
  {
   "cell_type": "code",
   "execution_count": 61,
   "id": "8cd2d657",
   "metadata": {},
   "outputs": [
    {
     "data": {
      "text/plain": [
       "event\n",
       "transaction    22457\n",
       "Name: count, dtype: int64"
      ]
     },
     "execution_count": 61,
     "metadata": {},
     "output_type": "execute_result"
    }
   ],
   "source": [
    "events[events[\"transactionid\"].notnull()][\"event\"].value_counts()"
   ]
  },
  {
   "cell_type": "code",
   "execution_count": 62,
   "id": "16303f35",
   "metadata": {},
   "outputs": [
    {
     "data": {
      "text/plain": [
       "event\n",
       "view         2664218\n",
       "addtocart      68966\n",
       "Name: count, dtype: int64"
      ]
     },
     "execution_count": 62,
     "metadata": {},
     "output_type": "execute_result"
    }
   ],
   "source": [
    "events[events[\"transactionid\"].isnull()][\"event\"].value_counts()"
   ]
  },
  {
   "cell_type": "markdown",
   "id": "34edf622",
   "metadata": {},
   "source": [
    "Existe un id asignado de transacción únicamente cuando se ha procesado una compra, los demás donde el evento es \"view\" o \"addtocart\" no poseen id. Lo mejor será eliminar la columna de transactionid ya que tampoco guarda relación con otras tablas."
   ]
  },
  {
   "cell_type": "code",
   "execution_count": 63,
   "id": "4523c4dd",
   "metadata": {},
   "outputs": [
    {
     "data": {
      "text/plain": [
       "(Timestamp('2015-05-03 03:00:04.384000'),\n",
       " Timestamp('2015-09-18 02:59:47.788000'))"
      ]
     },
     "execution_count": 63,
     "metadata": {},
     "output_type": "execute_result"
    }
   ],
   "source": [
    "min(events[\"fecha\"]), max(events[\"fecha\"])"
   ]
  },
  {
   "cell_type": "code",
   "execution_count": 64,
   "id": "6fcec657",
   "metadata": {},
   "outputs": [
    {
     "data": {
      "text/html": [
       "<div>\n",
       "<style scoped>\n",
       "    .dataframe tbody tr th:only-of-type {\n",
       "        vertical-align: middle;\n",
       "    }\n",
       "\n",
       "    .dataframe tbody tr th {\n",
       "        vertical-align: top;\n",
       "    }\n",
       "\n",
       "    .dataframe thead th {\n",
       "        text-align: right;\n",
       "    }\n",
       "</style>\n",
       "<table border=\"1\" class=\"dataframe\">\n",
       "  <thead>\n",
       "    <tr style=\"text-align: right;\">\n",
       "      <th></th>\n",
       "      <th>visitorid</th>\n",
       "      <th>event</th>\n",
       "      <th>itemid</th>\n",
       "      <th>fecha</th>\n",
       "    </tr>\n",
       "  </thead>\n",
       "  <tbody>\n",
       "    <tr>\n",
       "      <th>0</th>\n",
       "      <td>257597</td>\n",
       "      <td>view</td>\n",
       "      <td>355908</td>\n",
       "      <td>2015-06-02 05:02:12.117</td>\n",
       "    </tr>\n",
       "    <tr>\n",
       "      <th>1</th>\n",
       "      <td>992329</td>\n",
       "      <td>view</td>\n",
       "      <td>248676</td>\n",
       "      <td>2015-06-02 05:50:14.164</td>\n",
       "    </tr>\n",
       "    <tr>\n",
       "      <th>2</th>\n",
       "      <td>111016</td>\n",
       "      <td>view</td>\n",
       "      <td>318965</td>\n",
       "      <td>2015-06-02 05:13:19.827</td>\n",
       "    </tr>\n",
       "  </tbody>\n",
       "</table>\n",
       "</div>"
      ],
      "text/plain": [
       "   visitorid event  itemid                   fecha\n",
       "0     257597  view  355908 2015-06-02 05:02:12.117\n",
       "1     992329  view  248676 2015-06-02 05:50:14.164\n",
       "2     111016  view  318965 2015-06-02 05:13:19.827"
      ]
     },
     "execution_count": 64,
     "metadata": {},
     "output_type": "execute_result"
    }
   ],
   "source": [
    "events.drop(columns=[\"transactionid\"], inplace=True)\n",
    "events.head(3)"
   ]
  },
  {
   "cell_type": "code",
   "execution_count": 65,
   "id": "8183f657",
   "metadata": {},
   "outputs": [
    {
     "data": {
      "text/html": [
       "<div>\n",
       "<style scoped>\n",
       "    .dataframe tbody tr th:only-of-type {\n",
       "        vertical-align: middle;\n",
       "    }\n",
       "\n",
       "    .dataframe tbody tr th {\n",
       "        vertical-align: top;\n",
       "    }\n",
       "\n",
       "    .dataframe thead th {\n",
       "        text-align: right;\n",
       "    }\n",
       "</style>\n",
       "<table border=\"1\" class=\"dataframe\">\n",
       "  <thead>\n",
       "    <tr style=\"text-align: right;\">\n",
       "      <th></th>\n",
       "      <th>visitorid</th>\n",
       "      <th>event</th>\n",
       "      <th>itemid</th>\n",
       "      <th>fecha</th>\n",
       "    </tr>\n",
       "  </thead>\n",
       "  <tbody>\n",
       "    <tr>\n",
       "      <th>0</th>\n",
       "      <td>257597</td>\n",
       "      <td>VIEW</td>\n",
       "      <td>355908</td>\n",
       "      <td>2015-06-02 05:02:12.117</td>\n",
       "    </tr>\n",
       "    <tr>\n",
       "      <th>1</th>\n",
       "      <td>992329</td>\n",
       "      <td>VIEW</td>\n",
       "      <td>248676</td>\n",
       "      <td>2015-06-02 05:50:14.164</td>\n",
       "    </tr>\n",
       "    <tr>\n",
       "      <th>2</th>\n",
       "      <td>111016</td>\n",
       "      <td>VIEW</td>\n",
       "      <td>318965</td>\n",
       "      <td>2015-06-02 05:13:19.827</td>\n",
       "    </tr>\n",
       "    <tr>\n",
       "      <th>3</th>\n",
       "      <td>483717</td>\n",
       "      <td>VIEW</td>\n",
       "      <td>253185</td>\n",
       "      <td>2015-06-02 05:12:35.914</td>\n",
       "    </tr>\n",
       "    <tr>\n",
       "      <th>4</th>\n",
       "      <td>951259</td>\n",
       "      <td>VIEW</td>\n",
       "      <td>367447</td>\n",
       "      <td>2015-06-02 05:02:17.106</td>\n",
       "    </tr>\n",
       "  </tbody>\n",
       "</table>\n",
       "</div>"
      ],
      "text/plain": [
       "   visitorid event  itemid                   fecha\n",
       "0     257597  VIEW  355908 2015-06-02 05:02:12.117\n",
       "1     992329  VIEW  248676 2015-06-02 05:50:14.164\n",
       "2     111016  VIEW  318965 2015-06-02 05:13:19.827\n",
       "3     483717  VIEW  253185 2015-06-02 05:12:35.914\n",
       "4     951259  VIEW  367447 2015-06-02 05:02:17.106"
      ]
     },
     "execution_count": 65,
     "metadata": {},
     "output_type": "execute_result"
    }
   ],
   "source": [
    "events[\"event\"] = events[\"event\"].str.upper()\n",
    "events.head()"
   ]
  },
  {
   "cell_type": "markdown",
   "id": "7cf47d86",
   "metadata": {},
   "source": [
    "### Unir a producto el nombre de la categoria y marca"
   ]
  },
  {
   "cell_type": "code",
   "execution_count": 66,
   "id": "77021c48",
   "metadata": {},
   "outputs": [
    {
     "data": {
      "text/html": [
       "<div>\n",
       "<style scoped>\n",
       "    .dataframe tbody tr th:only-of-type {\n",
       "        vertical-align: middle;\n",
       "    }\n",
       "\n",
       "    .dataframe tbody tr th {\n",
       "        vertical-align: top;\n",
       "    }\n",
       "\n",
       "    .dataframe thead th {\n",
       "        text-align: right;\n",
       "    }\n",
       "</style>\n",
       "<table border=\"1\" class=\"dataframe\">\n",
       "  <thead>\n",
       "    <tr style=\"text-align: right;\">\n",
       "      <th></th>\n",
       "      <th>id_x</th>\n",
       "      <th>categoria_id</th>\n",
       "      <th>nombre</th>\n",
       "      <th>marca_id</th>\n",
       "      <th>volumen</th>\n",
       "      <th>precio</th>\n",
       "      <th>id_y</th>\n",
       "      <th>marca</th>\n",
       "      <th>_merge</th>\n",
       "    </tr>\n",
       "  </thead>\n",
       "  <tbody>\n",
       "    <tr>\n",
       "      <th>0</th>\n",
       "      <td>356475</td>\n",
       "      <td>9</td>\n",
       "      <td>CROWN ROYAL HONEY</td>\n",
       "      <td>1</td>\n",
       "      <td>750</td>\n",
       "      <td>22.49</td>\n",
       "      <td>1</td>\n",
       "      <td>DIAGEO AMERICAS</td>\n",
       "      <td>both</td>\n",
       "    </tr>\n",
       "    <tr>\n",
       "      <th>1</th>\n",
       "      <td>15335</td>\n",
       "      <td>9</td>\n",
       "      <td>CROWN ROYAL REGAL APPLE MINI</td>\n",
       "      <td>1</td>\n",
       "      <td>300</td>\n",
       "      <td>11.03</td>\n",
       "      <td>1</td>\n",
       "      <td>DIAGEO AMERICAS</td>\n",
       "      <td>both</td>\n",
       "    </tr>\n",
       "    <tr>\n",
       "      <th>2</th>\n",
       "      <td>81345</td>\n",
       "      <td>9</td>\n",
       "      <td>CROWN ROYAL REGAL APPLE</td>\n",
       "      <td>1</td>\n",
       "      <td>200</td>\n",
       "      <td>7.08</td>\n",
       "      <td>1</td>\n",
       "      <td>DIAGEO AMERICAS</td>\n",
       "      <td>both</td>\n",
       "    </tr>\n",
       "    <tr>\n",
       "      <th>3</th>\n",
       "      <td>150318</td>\n",
       "      <td>9</td>\n",
       "      <td>CROWN ROYAL XR CANADIAN WHISKEY</td>\n",
       "      <td>1</td>\n",
       "      <td>750</td>\n",
       "      <td>98.99</td>\n",
       "      <td>1</td>\n",
       "      <td>DIAGEO AMERICAS</td>\n",
       "      <td>both</td>\n",
       "    </tr>\n",
       "    <tr>\n",
       "      <th>4</th>\n",
       "      <td>310791</td>\n",
       "      <td>9</td>\n",
       "      <td>CROWN ROYAL CANADIAN WHISKY MINI</td>\n",
       "      <td>1</td>\n",
       "      <td>300</td>\n",
       "      <td>11.03</td>\n",
       "      <td>1</td>\n",
       "      <td>DIAGEO AMERICAS</td>\n",
       "      <td>both</td>\n",
       "    </tr>\n",
       "  </tbody>\n",
       "</table>\n",
       "</div>"
      ],
      "text/plain": [
       "     id_x  categoria_id                            nombre  marca_id  volumen  \\\n",
       "0  356475             9                 CROWN ROYAL HONEY         1      750   \n",
       "1   15335             9      CROWN ROYAL REGAL APPLE MINI         1      300   \n",
       "2   81345             9           CROWN ROYAL REGAL APPLE         1      200   \n",
       "3  150318             9   CROWN ROYAL XR CANADIAN WHISKEY         1      750   \n",
       "4  310791             9  CROWN ROYAL CANADIAN WHISKY MINI         1      300   \n",
       "\n",
       "   precio  id_y            marca _merge  \n",
       "0   22.49     1  DIAGEO AMERICAS   both  \n",
       "1   11.03     1  DIAGEO AMERICAS   both  \n",
       "2    7.08     1  DIAGEO AMERICAS   both  \n",
       "3   98.99     1  DIAGEO AMERICAS   both  \n",
       "4   11.03     1  DIAGEO AMERICAS   both  "
      ]
     },
     "execution_count": 66,
     "metadata": {},
     "output_type": "execute_result"
    }
   ],
   "source": [
    "producto = pd.merge(producto, marca, left_on=\"marca_id\", right_on=\"id\", how=\"left\",indicator=True)\n",
    "producto.head()"
   ]
  },
  {
   "cell_type": "code",
   "execution_count": 67,
   "id": "9c8fcedc",
   "metadata": {},
   "outputs": [
    {
     "data": {
      "text/plain": [
       "_merge\n",
       "both          12024\n",
       "left_only         0\n",
       "right_only        0\n",
       "Name: count, dtype: int64"
      ]
     },
     "execution_count": 67,
     "metadata": {},
     "output_type": "execute_result"
    }
   ],
   "source": [
    "producto[\"_merge\"].value_counts()"
   ]
  },
  {
   "cell_type": "markdown",
   "id": "7b1f3389",
   "metadata": {},
   "source": [
    "No se han producido datos nulos ya que hay coincidencia en ambas catálogos"
   ]
  },
  {
   "cell_type": "code",
   "execution_count": 68,
   "id": "24a2e7e3",
   "metadata": {},
   "outputs": [],
   "source": [
    "producto.drop(columns=[\"_merge\",\"id_y\",\"marca_id\"], inplace=True)"
   ]
  },
  {
   "cell_type": "code",
   "execution_count": 69,
   "id": "cfe9bae7",
   "metadata": {},
   "outputs": [
    {
     "data": {
      "text/html": [
       "<div>\n",
       "<style scoped>\n",
       "    .dataframe tbody tr th:only-of-type {\n",
       "        vertical-align: middle;\n",
       "    }\n",
       "\n",
       "    .dataframe tbody tr th {\n",
       "        vertical-align: top;\n",
       "    }\n",
       "\n",
       "    .dataframe thead th {\n",
       "        text-align: right;\n",
       "    }\n",
       "</style>\n",
       "<table border=\"1\" class=\"dataframe\">\n",
       "  <thead>\n",
       "    <tr style=\"text-align: right;\">\n",
       "      <th></th>\n",
       "      <th>id_x</th>\n",
       "      <th>categoria_id</th>\n",
       "      <th>nombre</th>\n",
       "      <th>volumen</th>\n",
       "      <th>precio</th>\n",
       "      <th>marca</th>\n",
       "      <th>id</th>\n",
       "      <th>categoria</th>\n",
       "      <th>_merge</th>\n",
       "    </tr>\n",
       "  </thead>\n",
       "  <tbody>\n",
       "    <tr>\n",
       "      <th>0</th>\n",
       "      <td>356475</td>\n",
       "      <td>9</td>\n",
       "      <td>CROWN ROYAL HONEY</td>\n",
       "      <td>750</td>\n",
       "      <td>22.49</td>\n",
       "      <td>DIAGEO AMERICAS</td>\n",
       "      <td>9</td>\n",
       "      <td>CANADIAN WHISKIES</td>\n",
       "      <td>both</td>\n",
       "    </tr>\n",
       "    <tr>\n",
       "      <th>1</th>\n",
       "      <td>15335</td>\n",
       "      <td>9</td>\n",
       "      <td>CROWN ROYAL REGAL APPLE MINI</td>\n",
       "      <td>300</td>\n",
       "      <td>11.03</td>\n",
       "      <td>DIAGEO AMERICAS</td>\n",
       "      <td>9</td>\n",
       "      <td>CANADIAN WHISKIES</td>\n",
       "      <td>both</td>\n",
       "    </tr>\n",
       "    <tr>\n",
       "      <th>2</th>\n",
       "      <td>81345</td>\n",
       "      <td>9</td>\n",
       "      <td>CROWN ROYAL REGAL APPLE</td>\n",
       "      <td>200</td>\n",
       "      <td>7.08</td>\n",
       "      <td>DIAGEO AMERICAS</td>\n",
       "      <td>9</td>\n",
       "      <td>CANADIAN WHISKIES</td>\n",
       "      <td>both</td>\n",
       "    </tr>\n",
       "    <tr>\n",
       "      <th>3</th>\n",
       "      <td>150318</td>\n",
       "      <td>9</td>\n",
       "      <td>CROWN ROYAL XR CANADIAN WHISKEY</td>\n",
       "      <td>750</td>\n",
       "      <td>98.99</td>\n",
       "      <td>DIAGEO AMERICAS</td>\n",
       "      <td>9</td>\n",
       "      <td>CANADIAN WHISKIES</td>\n",
       "      <td>both</td>\n",
       "    </tr>\n",
       "    <tr>\n",
       "      <th>4</th>\n",
       "      <td>310791</td>\n",
       "      <td>9</td>\n",
       "      <td>CROWN ROYAL CANADIAN WHISKY MINI</td>\n",
       "      <td>300</td>\n",
       "      <td>11.03</td>\n",
       "      <td>DIAGEO AMERICAS</td>\n",
       "      <td>9</td>\n",
       "      <td>CANADIAN WHISKIES</td>\n",
       "      <td>both</td>\n",
       "    </tr>\n",
       "  </tbody>\n",
       "</table>\n",
       "</div>"
      ],
      "text/plain": [
       "     id_x  categoria_id                            nombre  volumen  precio  \\\n",
       "0  356475             9                 CROWN ROYAL HONEY      750   22.49   \n",
       "1   15335             9      CROWN ROYAL REGAL APPLE MINI      300   11.03   \n",
       "2   81345             9           CROWN ROYAL REGAL APPLE      200    7.08   \n",
       "3  150318             9   CROWN ROYAL XR CANADIAN WHISKEY      750   98.99   \n",
       "4  310791             9  CROWN ROYAL CANADIAN WHISKY MINI      300   11.03   \n",
       "\n",
       "             marca  id          categoria _merge  \n",
       "0  DIAGEO AMERICAS   9  CANADIAN WHISKIES   both  \n",
       "1  DIAGEO AMERICAS   9  CANADIAN WHISKIES   both  \n",
       "2  DIAGEO AMERICAS   9  CANADIAN WHISKIES   both  \n",
       "3  DIAGEO AMERICAS   9  CANADIAN WHISKIES   both  \n",
       "4  DIAGEO AMERICAS   9  CANADIAN WHISKIES   both  "
      ]
     },
     "execution_count": 69,
     "metadata": {},
     "output_type": "execute_result"
    }
   ],
   "source": [
    "producto = pd.merge(producto, categoria, left_on=\"categoria_id\", right_on=\"id\", how=\"left\",indicator=True)\n",
    "producto.head()"
   ]
  },
  {
   "cell_type": "code",
   "execution_count": 70,
   "id": "55a27752",
   "metadata": {},
   "outputs": [
    {
     "data": {
      "text/plain": [
       "_merge\n",
       "both          12024\n",
       "left_only         0\n",
       "right_only        0\n",
       "Name: count, dtype: int64"
      ]
     },
     "execution_count": 70,
     "metadata": {},
     "output_type": "execute_result"
    }
   ],
   "source": [
    "producto[\"_merge\"].value_counts()"
   ]
  },
  {
   "cell_type": "code",
   "execution_count": 71,
   "id": "0dbf7bb0",
   "metadata": {},
   "outputs": [
    {
     "data": {
      "text/html": [
       "<div>\n",
       "<style scoped>\n",
       "    .dataframe tbody tr th:only-of-type {\n",
       "        vertical-align: middle;\n",
       "    }\n",
       "\n",
       "    .dataframe tbody tr th {\n",
       "        vertical-align: top;\n",
       "    }\n",
       "\n",
       "    .dataframe thead th {\n",
       "        text-align: right;\n",
       "    }\n",
       "</style>\n",
       "<table border=\"1\" class=\"dataframe\">\n",
       "  <thead>\n",
       "    <tr style=\"text-align: right;\">\n",
       "      <th></th>\n",
       "      <th>id</th>\n",
       "      <th>nombre</th>\n",
       "      <th>volumen</th>\n",
       "      <th>precio</th>\n",
       "      <th>marca</th>\n",
       "      <th>categoria</th>\n",
       "    </tr>\n",
       "  </thead>\n",
       "  <tbody>\n",
       "    <tr>\n",
       "      <th>0</th>\n",
       "      <td>356475</td>\n",
       "      <td>CROWN ROYAL HONEY</td>\n",
       "      <td>750</td>\n",
       "      <td>22.49</td>\n",
       "      <td>DIAGEO AMERICAS</td>\n",
       "      <td>CANADIAN WHISKIES</td>\n",
       "    </tr>\n",
       "    <tr>\n",
       "      <th>1</th>\n",
       "      <td>15335</td>\n",
       "      <td>CROWN ROYAL REGAL APPLE MINI</td>\n",
       "      <td>300</td>\n",
       "      <td>11.03</td>\n",
       "      <td>DIAGEO AMERICAS</td>\n",
       "      <td>CANADIAN WHISKIES</td>\n",
       "    </tr>\n",
       "    <tr>\n",
       "      <th>2</th>\n",
       "      <td>81345</td>\n",
       "      <td>CROWN ROYAL REGAL APPLE</td>\n",
       "      <td>200</td>\n",
       "      <td>7.08</td>\n",
       "      <td>DIAGEO AMERICAS</td>\n",
       "      <td>CANADIAN WHISKIES</td>\n",
       "    </tr>\n",
       "    <tr>\n",
       "      <th>3</th>\n",
       "      <td>150318</td>\n",
       "      <td>CROWN ROYAL XR CANADIAN WHISKEY</td>\n",
       "      <td>750</td>\n",
       "      <td>98.99</td>\n",
       "      <td>DIAGEO AMERICAS</td>\n",
       "      <td>CANADIAN WHISKIES</td>\n",
       "    </tr>\n",
       "    <tr>\n",
       "      <th>4</th>\n",
       "      <td>310791</td>\n",
       "      <td>CROWN ROYAL CANADIAN WHISKY MINI</td>\n",
       "      <td>300</td>\n",
       "      <td>11.03</td>\n",
       "      <td>DIAGEO AMERICAS</td>\n",
       "      <td>CANADIAN WHISKIES</td>\n",
       "    </tr>\n",
       "  </tbody>\n",
       "</table>\n",
       "</div>"
      ],
      "text/plain": [
       "       id                            nombre  volumen  precio            marca  \\\n",
       "0  356475                 CROWN ROYAL HONEY      750   22.49  DIAGEO AMERICAS   \n",
       "1   15335      CROWN ROYAL REGAL APPLE MINI      300   11.03  DIAGEO AMERICAS   \n",
       "2   81345           CROWN ROYAL REGAL APPLE      200    7.08  DIAGEO AMERICAS   \n",
       "3  150318   CROWN ROYAL XR CANADIAN WHISKEY      750   98.99  DIAGEO AMERICAS   \n",
       "4  310791  CROWN ROYAL CANADIAN WHISKY MINI      300   11.03  DIAGEO AMERICAS   \n",
       "\n",
       "           categoria  \n",
       "0  CANADIAN WHISKIES  \n",
       "1  CANADIAN WHISKIES  \n",
       "2  CANADIAN WHISKIES  \n",
       "3  CANADIAN WHISKIES  \n",
       "4  CANADIAN WHISKIES  "
      ]
     },
     "execution_count": 71,
     "metadata": {},
     "output_type": "execute_result"
    }
   ],
   "source": [
    "producto.drop(columns=[\"_merge\",\"id\",\"categoria_id\"], inplace=True)\n",
    "producto.rename(columns={\"id_x\": \"id\"}, inplace=True)\n",
    "producto.head()"
   ]
  },
  {
   "cell_type": "markdown",
   "id": "5a93f29c",
   "metadata": {},
   "source": [
    "### Unir events con producto"
   ]
  },
  {
   "cell_type": "code",
   "execution_count": 72,
   "id": "12e79277",
   "metadata": {},
   "outputs": [
    {
     "data": {
      "text/html": [
       "<div>\n",
       "<style scoped>\n",
       "    .dataframe tbody tr th:only-of-type {\n",
       "        vertical-align: middle;\n",
       "    }\n",
       "\n",
       "    .dataframe tbody tr th {\n",
       "        vertical-align: top;\n",
       "    }\n",
       "\n",
       "    .dataframe thead th {\n",
       "        text-align: right;\n",
       "    }\n",
       "</style>\n",
       "<table border=\"1\" class=\"dataframe\">\n",
       "  <thead>\n",
       "    <tr style=\"text-align: right;\">\n",
       "      <th></th>\n",
       "      <th>visitorid</th>\n",
       "      <th>event</th>\n",
       "      <th>itemid</th>\n",
       "      <th>fecha</th>\n",
       "      <th>id</th>\n",
       "      <th>nombre</th>\n",
       "      <th>volumen</th>\n",
       "      <th>precio</th>\n",
       "      <th>marca</th>\n",
       "      <th>categoria</th>\n",
       "      <th>_merge</th>\n",
       "    </tr>\n",
       "  </thead>\n",
       "  <tbody>\n",
       "    <tr>\n",
       "      <th>0</th>\n",
       "      <td>257597</td>\n",
       "      <td>VIEW</td>\n",
       "      <td>355908</td>\n",
       "      <td>2015-06-02 05:02:12.117</td>\n",
       "      <td>NaN</td>\n",
       "      <td>NaN</td>\n",
       "      <td>NaN</td>\n",
       "      <td>NaN</td>\n",
       "      <td>NaN</td>\n",
       "      <td>NaN</td>\n",
       "      <td>left_only</td>\n",
       "    </tr>\n",
       "    <tr>\n",
       "      <th>1</th>\n",
       "      <td>992329</td>\n",
       "      <td>VIEW</td>\n",
       "      <td>248676</td>\n",
       "      <td>2015-06-02 05:50:14.164</td>\n",
       "      <td>248676.0</td>\n",
       "      <td>MARGARITAVILLE TEQUILA ORO(GOLD)</td>\n",
       "      <td>1000.0</td>\n",
       "      <td>11.75</td>\n",
       "      <td>SAZERAC CO., INC.</td>\n",
       "      <td>TEQUILA</td>\n",
       "      <td>both</td>\n",
       "    </tr>\n",
       "    <tr>\n",
       "      <th>2</th>\n",
       "      <td>111016</td>\n",
       "      <td>VIEW</td>\n",
       "      <td>318965</td>\n",
       "      <td>2015-06-02 05:13:19.827</td>\n",
       "      <td>NaN</td>\n",
       "      <td>NaN</td>\n",
       "      <td>NaN</td>\n",
       "      <td>NaN</td>\n",
       "      <td>NaN</td>\n",
       "      <td>NaN</td>\n",
       "      <td>left_only</td>\n",
       "    </tr>\n",
       "    <tr>\n",
       "      <th>3</th>\n",
       "      <td>483717</td>\n",
       "      <td>VIEW</td>\n",
       "      <td>253185</td>\n",
       "      <td>2015-06-02 05:12:35.914</td>\n",
       "      <td>NaN</td>\n",
       "      <td>NaN</td>\n",
       "      <td>NaN</td>\n",
       "      <td>NaN</td>\n",
       "      <td>NaN</td>\n",
       "      <td>NaN</td>\n",
       "      <td>left_only</td>\n",
       "    </tr>\n",
       "    <tr>\n",
       "      <th>4</th>\n",
       "      <td>951259</td>\n",
       "      <td>VIEW</td>\n",
       "      <td>367447</td>\n",
       "      <td>2015-06-02 05:02:17.106</td>\n",
       "      <td>367447.0</td>\n",
       "      <td>THE DALMORE CIGAR MALT SCOTCH</td>\n",
       "      <td>750.0</td>\n",
       "      <td>31.49</td>\n",
       "      <td>E AND J GALLO WINERY</td>\n",
       "      <td>SINGLE MALT SCOTCH</td>\n",
       "      <td>both</td>\n",
       "    </tr>\n",
       "  </tbody>\n",
       "</table>\n",
       "</div>"
      ],
      "text/plain": [
       "   visitorid event  itemid                   fecha        id  \\\n",
       "0     257597  VIEW  355908 2015-06-02 05:02:12.117       NaN   \n",
       "1     992329  VIEW  248676 2015-06-02 05:50:14.164  248676.0   \n",
       "2     111016  VIEW  318965 2015-06-02 05:13:19.827       NaN   \n",
       "3     483717  VIEW  253185 2015-06-02 05:12:35.914       NaN   \n",
       "4     951259  VIEW  367447 2015-06-02 05:02:17.106  367447.0   \n",
       "\n",
       "                             nombre  volumen  precio                 marca  \\\n",
       "0                               NaN      NaN     NaN                   NaN   \n",
       "1  MARGARITAVILLE TEQUILA ORO(GOLD)   1000.0   11.75     SAZERAC CO., INC.   \n",
       "2                               NaN      NaN     NaN                   NaN   \n",
       "3                               NaN      NaN     NaN                   NaN   \n",
       "4     THE DALMORE CIGAR MALT SCOTCH    750.0   31.49  E AND J GALLO WINERY   \n",
       "\n",
       "            categoria     _merge  \n",
       "0                 NaN  left_only  \n",
       "1             TEQUILA       both  \n",
       "2                 NaN  left_only  \n",
       "3                 NaN  left_only  \n",
       "4  SINGLE MALT SCOTCH       both  "
      ]
     },
     "execution_count": 72,
     "metadata": {},
     "output_type": "execute_result"
    }
   ],
   "source": [
    "events1 = pd.merge(events, producto, left_on=\"itemid\", right_on=\"id\", how=\"left\", indicator=True)\n",
    "events1.head()"
   ]
  },
  {
   "cell_type": "code",
   "execution_count": 73,
   "id": "838be05e",
   "metadata": {},
   "outputs": [],
   "source": [
    "events1.drop(columns=[\"id\"], inplace=True)"
   ]
  },
  {
   "cell_type": "code",
   "execution_count": 74,
   "id": "16d3aa2a",
   "metadata": {},
   "outputs": [
    {
     "data": {
      "text/plain": [
       "_merge\n",
       "left_only     1841882\n",
       "both           913916\n",
       "right_only          0\n",
       "Name: count, dtype: int64"
      ]
     },
     "execution_count": 74,
     "metadata": {},
     "output_type": "execute_result"
    }
   ],
   "source": [
    "events1[\"_merge\"].value_counts()    "
   ]
  },
  {
   "cell_type": "markdown",
   "id": "5d26c338",
   "metadata": {},
   "source": [
    "Los productos que aparecen en left only se podría interpretar como productos que han sido descontinuados dentro de la base de datos."
   ]
  },
  {
   "cell_type": "markdown",
   "id": "674cb8cc",
   "metadata": {},
   "source": [
    "### Events con clientes"
   ]
  },
  {
   "cell_type": "code",
   "execution_count": 75,
   "id": "6002220e",
   "metadata": {},
   "outputs": [
    {
     "data": {
      "text/html": [
       "<div>\n",
       "<style scoped>\n",
       "    .dataframe tbody tr th:only-of-type {\n",
       "        vertical-align: middle;\n",
       "    }\n",
       "\n",
       "    .dataframe tbody tr th {\n",
       "        vertical-align: top;\n",
       "    }\n",
       "\n",
       "    .dataframe thead th {\n",
       "        text-align: right;\n",
       "    }\n",
       "</style>\n",
       "<table border=\"1\" class=\"dataframe\">\n",
       "  <thead>\n",
       "    <tr style=\"text-align: right;\">\n",
       "      <th></th>\n",
       "      <th>visitorid</th>\n",
       "      <th>event</th>\n",
       "      <th>itemid</th>\n",
       "      <th>fecha</th>\n",
       "      <th>id</th>\n",
       "      <th>nombre</th>\n",
       "      <th>nacimiento</th>\n",
       "      <th>genero</th>\n",
       "      <th>empresa</th>\n",
       "      <th>idioma</th>\n",
       "      <th>puesto</th>\n",
       "      <th>ciudad</th>\n",
       "      <th>edad</th>\n",
       "      <th>_merge</th>\n",
       "    </tr>\n",
       "  </thead>\n",
       "  <tbody>\n",
       "    <tr>\n",
       "      <th>0</th>\n",
       "      <td>257597</td>\n",
       "      <td>VIEW</td>\n",
       "      <td>355908</td>\n",
       "      <td>2015-06-02 05:02:12.117</td>\n",
       "      <td>NaN</td>\n",
       "      <td>NaN</td>\n",
       "      <td>NaT</td>\n",
       "      <td>NaN</td>\n",
       "      <td>NaN</td>\n",
       "      <td>NaN</td>\n",
       "      <td>NaN</td>\n",
       "      <td>NaN</td>\n",
       "      <td>NaN</td>\n",
       "      <td>left_only</td>\n",
       "    </tr>\n",
       "    <tr>\n",
       "      <th>1</th>\n",
       "      <td>992329</td>\n",
       "      <td>VIEW</td>\n",
       "      <td>248676</td>\n",
       "      <td>2015-06-02 05:50:14.164</td>\n",
       "      <td>NaN</td>\n",
       "      <td>NaN</td>\n",
       "      <td>NaT</td>\n",
       "      <td>NaN</td>\n",
       "      <td>NaN</td>\n",
       "      <td>NaN</td>\n",
       "      <td>NaN</td>\n",
       "      <td>NaN</td>\n",
       "      <td>NaN</td>\n",
       "      <td>left_only</td>\n",
       "    </tr>\n",
       "    <tr>\n",
       "      <th>2</th>\n",
       "      <td>111016</td>\n",
       "      <td>VIEW</td>\n",
       "      <td>318965</td>\n",
       "      <td>2015-06-02 05:13:19.827</td>\n",
       "      <td>NaN</td>\n",
       "      <td>NaN</td>\n",
       "      <td>NaT</td>\n",
       "      <td>NaN</td>\n",
       "      <td>NaN</td>\n",
       "      <td>NaN</td>\n",
       "      <td>NaN</td>\n",
       "      <td>NaN</td>\n",
       "      <td>NaN</td>\n",
       "      <td>left_only</td>\n",
       "    </tr>\n",
       "    <tr>\n",
       "      <th>3</th>\n",
       "      <td>483717</td>\n",
       "      <td>VIEW</td>\n",
       "      <td>253185</td>\n",
       "      <td>2015-06-02 05:12:35.914</td>\n",
       "      <td>NaN</td>\n",
       "      <td>NaN</td>\n",
       "      <td>NaT</td>\n",
       "      <td>NaN</td>\n",
       "      <td>NaN</td>\n",
       "      <td>NaN</td>\n",
       "      <td>NaN</td>\n",
       "      <td>NaN</td>\n",
       "      <td>NaN</td>\n",
       "      <td>left_only</td>\n",
       "    </tr>\n",
       "    <tr>\n",
       "      <th>4</th>\n",
       "      <td>951259</td>\n",
       "      <td>VIEW</td>\n",
       "      <td>367447</td>\n",
       "      <td>2015-06-02 05:02:17.106</td>\n",
       "      <td>NaN</td>\n",
       "      <td>NaN</td>\n",
       "      <td>NaT</td>\n",
       "      <td>NaN</td>\n",
       "      <td>NaN</td>\n",
       "      <td>NaN</td>\n",
       "      <td>NaN</td>\n",
       "      <td>NaN</td>\n",
       "      <td>NaN</td>\n",
       "      <td>left_only</td>\n",
       "    </tr>\n",
       "  </tbody>\n",
       "</table>\n",
       "</div>"
      ],
      "text/plain": [
       "   visitorid event  itemid                   fecha  id nombre nacimiento  \\\n",
       "0     257597  VIEW  355908 2015-06-02 05:02:12.117 NaN    NaN        NaT   \n",
       "1     992329  VIEW  248676 2015-06-02 05:50:14.164 NaN    NaN        NaT   \n",
       "2     111016  VIEW  318965 2015-06-02 05:13:19.827 NaN    NaN        NaT   \n",
       "3     483717  VIEW  253185 2015-06-02 05:12:35.914 NaN    NaN        NaT   \n",
       "4     951259  VIEW  367447 2015-06-02 05:02:17.106 NaN    NaN        NaT   \n",
       "\n",
       "  genero empresa idioma puesto ciudad  edad     _merge  \n",
       "0    NaN     NaN    NaN    NaN    NaN   NaN  left_only  \n",
       "1    NaN     NaN    NaN    NaN    NaN   NaN  left_only  \n",
       "2    NaN     NaN    NaN    NaN    NaN   NaN  left_only  \n",
       "3    NaN     NaN    NaN    NaN    NaN   NaN  left_only  \n",
       "4    NaN     NaN    NaN    NaN    NaN   NaN  left_only  "
      ]
     },
     "execution_count": 75,
     "metadata": {},
     "output_type": "execute_result"
    }
   ],
   "source": [
    "events2 = pd.merge(events, cliente, left_on=\"visitorid\", right_on=\"id\", how=\"left\", indicator=True)\n",
    "events2.head()"
   ]
  },
  {
   "cell_type": "code",
   "execution_count": 76,
   "id": "851f678c",
   "metadata": {},
   "outputs": [],
   "source": [
    "events2.drop(columns=[\"id\"], inplace=True)"
   ]
  },
  {
   "cell_type": "code",
   "execution_count": 77,
   "id": "6f96cd5d",
   "metadata": {},
   "outputs": [
    {
     "data": {
      "text/plain": [
       "_merge\n",
       "left_only     2525035\n",
       "both           230606\n",
       "right_only          0\n",
       "Name: count, dtype: int64"
      ]
     },
     "execution_count": 77,
     "metadata": {},
     "output_type": "execute_result"
    }
   ],
   "source": [
    "events2[\"_merge\"].value_counts()"
   ]
  },
  {
   "cell_type": "markdown",
   "id": "2b8a1ede",
   "metadata": {},
   "source": [
    "El left only indica que son clientes que no se han registrado en nuestro sistema de datos y son ids temporales"
   ]
  },
  {
   "cell_type": "code",
   "execution_count": 78,
   "id": "e96f837f",
   "metadata": {},
   "outputs": [
    {
     "data": {
      "text/plain": [
       "event\n",
       "VIEW         2483475\n",
       "ADDTOCART      41560\n",
       "Name: count, dtype: int64"
      ]
     },
     "execution_count": 78,
     "metadata": {},
     "output_type": "execute_result"
    }
   ],
   "source": [
    "events2[events2[\"_merge\"] == \"left_only\"][\"event\"].value_counts()"
   ]
  },
  {
   "cell_type": "markdown",
   "id": "dedfe094",
   "metadata": {},
   "source": [
    "Estos datos corresponden a aquellos usuarios que solamente se encuentran curiosos por los productos ofrecidos pero no concluyen la compra."
   ]
  },
  {
   "cell_type": "markdown",
   "id": "4481dab5",
   "metadata": {},
   "source": [
    "### Unir eventos1 con eventos2"
   ]
  },
  {
   "cell_type": "code",
   "execution_count": 79,
   "id": "7c061501",
   "metadata": {},
   "outputs": [
    {
     "data": {
      "text/plain": [
       "(Index(['visitorid', 'event', 'itemid', 'fecha', 'nombre', 'volumen', 'precio',\n",
       "        'marca', 'categoria', '_merge'],\n",
       "       dtype='object'),\n",
       " Index(['visitorid', 'event', 'itemid', 'fecha', 'nombre', 'nacimiento',\n",
       "        'genero', 'empresa', 'idioma', 'puesto', 'ciudad', 'edad', '_merge'],\n",
       "       dtype='object'))"
      ]
     },
     "execution_count": 79,
     "metadata": {},
     "output_type": "execute_result"
    }
   ],
   "source": [
    "events1.columns, events2.columns"
   ]
  },
  {
   "cell_type": "code",
   "execution_count": 80,
   "id": "2f94ba16",
   "metadata": {},
   "outputs": [],
   "source": [
    "events1 = events1.rename(columns={\"_merge\": \"event+producto\"})\n",
    "events2 = events2.rename(columns={\"_merge\": \"event+cliente\"})"
   ]
  },
  {
   "cell_type": "code",
   "execution_count": 81,
   "id": "2b51cc0d",
   "metadata": {},
   "outputs": [],
   "source": [
    "cols_to_use = [c for c in events2.columns if c not in events1.columns or c in [\"visitorid\", \"itemid\"]]\n",
    "\n",
    "eventos3 = pd.merge(\n",
    "    events1,\n",
    "    events2[cols_to_use],\n",
    "    on=[\"visitorid\", \"itemid\"],\n",
    "    how=\"outer\"\n",
    ")"
   ]
  },
  {
   "cell_type": "code",
   "execution_count": 82,
   "id": "9f6b8897",
   "metadata": {},
   "outputs": [
    {
     "data": {
      "text/html": [
       "<div>\n",
       "<style scoped>\n",
       "    .dataframe tbody tr th:only-of-type {\n",
       "        vertical-align: middle;\n",
       "    }\n",
       "\n",
       "    .dataframe tbody tr th {\n",
       "        vertical-align: top;\n",
       "    }\n",
       "\n",
       "    .dataframe thead th {\n",
       "        text-align: right;\n",
       "    }\n",
       "</style>\n",
       "<table border=\"1\" class=\"dataframe\">\n",
       "  <thead>\n",
       "    <tr style=\"text-align: right;\">\n",
       "      <th></th>\n",
       "      <th>visitorid</th>\n",
       "      <th>event</th>\n",
       "      <th>itemid</th>\n",
       "      <th>fecha</th>\n",
       "      <th>nombre</th>\n",
       "      <th>volumen</th>\n",
       "      <th>precio</th>\n",
       "      <th>marca</th>\n",
       "      <th>categoria</th>\n",
       "      <th>event+producto</th>\n",
       "      <th>nacimiento</th>\n",
       "      <th>genero</th>\n",
       "      <th>empresa</th>\n",
       "      <th>idioma</th>\n",
       "      <th>puesto</th>\n",
       "      <th>ciudad</th>\n",
       "      <th>edad</th>\n",
       "      <th>event+cliente</th>\n",
       "    </tr>\n",
       "  </thead>\n",
       "  <tbody>\n",
       "    <tr>\n",
       "      <th>0</th>\n",
       "      <td>257597</td>\n",
       "      <td>VIEW</td>\n",
       "      <td>355908</td>\n",
       "      <td>2015-06-02 05:02:12.117</td>\n",
       "      <td>NaN</td>\n",
       "      <td>NaN</td>\n",
       "      <td>NaN</td>\n",
       "      <td>NaN</td>\n",
       "      <td>NaN</td>\n",
       "      <td>left_only</td>\n",
       "      <td>NaT</td>\n",
       "      <td>NaN</td>\n",
       "      <td>NaN</td>\n",
       "      <td>NaN</td>\n",
       "      <td>NaN</td>\n",
       "      <td>NaN</td>\n",
       "      <td>NaN</td>\n",
       "      <td>left_only</td>\n",
       "    </tr>\n",
       "    <tr>\n",
       "      <th>1</th>\n",
       "      <td>992329</td>\n",
       "      <td>VIEW</td>\n",
       "      <td>248676</td>\n",
       "      <td>2015-06-02 05:50:14.164</td>\n",
       "      <td>MARGARITAVILLE TEQUILA ORO(GOLD)</td>\n",
       "      <td>1000.0</td>\n",
       "      <td>11.75</td>\n",
       "      <td>SAZERAC CO., INC.</td>\n",
       "      <td>TEQUILA</td>\n",
       "      <td>both</td>\n",
       "      <td>NaT</td>\n",
       "      <td>NaN</td>\n",
       "      <td>NaN</td>\n",
       "      <td>NaN</td>\n",
       "      <td>NaN</td>\n",
       "      <td>NaN</td>\n",
       "      <td>NaN</td>\n",
       "      <td>left_only</td>\n",
       "    </tr>\n",
       "    <tr>\n",
       "      <th>2</th>\n",
       "      <td>111016</td>\n",
       "      <td>VIEW</td>\n",
       "      <td>318965</td>\n",
       "      <td>2015-06-02 05:13:19.827</td>\n",
       "      <td>NaN</td>\n",
       "      <td>NaN</td>\n",
       "      <td>NaN</td>\n",
       "      <td>NaN</td>\n",
       "      <td>NaN</td>\n",
       "      <td>left_only</td>\n",
       "      <td>NaT</td>\n",
       "      <td>NaN</td>\n",
       "      <td>NaN</td>\n",
       "      <td>NaN</td>\n",
       "      <td>NaN</td>\n",
       "      <td>NaN</td>\n",
       "      <td>NaN</td>\n",
       "      <td>left_only</td>\n",
       "    </tr>\n",
       "    <tr>\n",
       "      <th>3</th>\n",
       "      <td>111016</td>\n",
       "      <td>VIEW</td>\n",
       "      <td>318965</td>\n",
       "      <td>2015-06-02 05:13:19.827</td>\n",
       "      <td>NaN</td>\n",
       "      <td>NaN</td>\n",
       "      <td>NaN</td>\n",
       "      <td>NaN</td>\n",
       "      <td>NaN</td>\n",
       "      <td>left_only</td>\n",
       "      <td>NaT</td>\n",
       "      <td>NaN</td>\n",
       "      <td>NaN</td>\n",
       "      <td>NaN</td>\n",
       "      <td>NaN</td>\n",
       "      <td>NaN</td>\n",
       "      <td>NaN</td>\n",
       "      <td>left_only</td>\n",
       "    </tr>\n",
       "    <tr>\n",
       "      <th>4</th>\n",
       "      <td>111016</td>\n",
       "      <td>VIEW</td>\n",
       "      <td>318965</td>\n",
       "      <td>2015-05-31 02:27:57.492</td>\n",
       "      <td>NaN</td>\n",
       "      <td>NaN</td>\n",
       "      <td>NaN</td>\n",
       "      <td>NaN</td>\n",
       "      <td>NaN</td>\n",
       "      <td>left_only</td>\n",
       "      <td>NaT</td>\n",
       "      <td>NaN</td>\n",
       "      <td>NaN</td>\n",
       "      <td>NaN</td>\n",
       "      <td>NaN</td>\n",
       "      <td>NaN</td>\n",
       "      <td>NaN</td>\n",
       "      <td>left_only</td>\n",
       "    </tr>\n",
       "  </tbody>\n",
       "</table>\n",
       "</div>"
      ],
      "text/plain": [
       "   visitorid event  itemid                   fecha  \\\n",
       "0     257597  VIEW  355908 2015-06-02 05:02:12.117   \n",
       "1     992329  VIEW  248676 2015-06-02 05:50:14.164   \n",
       "2     111016  VIEW  318965 2015-06-02 05:13:19.827   \n",
       "3     111016  VIEW  318965 2015-06-02 05:13:19.827   \n",
       "4     111016  VIEW  318965 2015-05-31 02:27:57.492   \n",
       "\n",
       "                             nombre  volumen  precio              marca  \\\n",
       "0                               NaN      NaN     NaN                NaN   \n",
       "1  MARGARITAVILLE TEQUILA ORO(GOLD)   1000.0   11.75  SAZERAC CO., INC.   \n",
       "2                               NaN      NaN     NaN                NaN   \n",
       "3                               NaN      NaN     NaN                NaN   \n",
       "4                               NaN      NaN     NaN                NaN   \n",
       "\n",
       "  categoria event+producto nacimiento genero empresa idioma puesto ciudad  \\\n",
       "0       NaN      left_only        NaT    NaN     NaN    NaN    NaN    NaN   \n",
       "1   TEQUILA           both        NaT    NaN     NaN    NaN    NaN    NaN   \n",
       "2       NaN      left_only        NaT    NaN     NaN    NaN    NaN    NaN   \n",
       "3       NaN      left_only        NaT    NaN     NaN    NaN    NaN    NaN   \n",
       "4       NaN      left_only        NaT    NaN     NaN    NaN    NaN    NaN   \n",
       "\n",
       "   edad event+cliente  \n",
       "0   NaN     left_only  \n",
       "1   NaN     left_only  \n",
       "2   NaN     left_only  \n",
       "3   NaN     left_only  \n",
       "4   NaN     left_only  "
      ]
     },
     "execution_count": 82,
     "metadata": {},
     "output_type": "execute_result"
    }
   ],
   "source": [
    "eventos3.head()"
   ]
  },
  {
   "cell_type": "code",
   "execution_count": 83,
   "id": "1435ffb2",
   "metadata": {},
   "outputs": [
    {
     "data": {
      "text/plain": [
       "event+producto  event+cliente\n",
       "left_only       left_only        3576266\n",
       "both            left_only        1995998\n",
       "                both              947358\n",
       "left_only       both              273810\n",
       "Name: count, dtype: int64"
      ]
     },
     "execution_count": 83,
     "metadata": {},
     "output_type": "execute_result"
    }
   ],
   "source": [
    "eventos3[[\"event+producto\",\"event+cliente\"]].value_counts()"
   ]
  },
  {
   "cell_type": "markdown",
   "id": "23ae200f",
   "metadata": {},
   "source": [
    "| event+producto | event+cliente | count     | Interpretación                                                                                            |\n",
    "| -------------- | ------------- | --------- | --------------------------------------------------------------------------------------------------------- |\n",
    "| left\\_only     | left\\_only    | 3,576,266 | Evento que no encontró coincidencia ni en producto ni en cliente. Son eventos “huérfanos” en ambos joins. |\n",
    "| both           | left\\_only    | 1,995,998 | Evento que sí tiene producto asociado pero no cliente asociado.                                           |\n",
    "| both           | both          | 947,358   | Evento que tiene tanto producto como cliente asociados (join completo en ambas).                          |\n",
    "| left\\_only     | both          | 273,810   | Evento que no tiene producto asociado pero sí cliente.                                                    |\n"
   ]
  },
  {
   "cell_type": "markdown",
   "id": "64ee44a8",
   "metadata": {},
   "source": [
    "Eliminacion de usuarios con edades negativas o superior a 110 "
   ]
  },
  {
   "cell_type": "markdown",
   "id": "b148eced",
   "metadata": {},
   "source": [
    "### Exportar los datos"
   ]
  },
  {
   "cell_type": "code",
   "execution_count": 84,
   "id": "bdb60a77",
   "metadata": {},
   "outputs": [],
   "source": [
    "os.makedirs(\"processed_data\", exist_ok=True)\n",
    "cliente.to_csv(\"processed_data/cliente.csv\", index=False)\n",
    "categoria.to_csv(\"processed_data/categoria.csv\", index=False)\n",
    "marca.to_csv(\"processed_data/marca.csv\", index=False)\n",
    "producto.to_csv(\"processed_data/producto.csv\", index=False)\n",
    "events.to_csv(\"processed_data/evento.csv\", index=False)\n",
    "\n",
    "events1.to_csv(\"processed_data/eventos_productos.csv\", index=False)\n",
    "events2.to_csv(\"processed_data/eventos_clientes.csv\", index=False)\n",
    "eventos3.to_csv(\"processed_data/events_productos_clientes.csv\", index=False)"
   ]
  }
 ],
 "metadata": {
  "kernelspec": {
   "display_name": "Python 3",
   "language": "python",
   "name": "python3"
  },
  "language_info": {
   "codemirror_mode": {
    "name": "ipython",
    "version": 3
   },
   "file_extension": ".py",
   "mimetype": "text/x-python",
   "name": "python",
   "nbconvert_exporter": "python",
   "pygments_lexer": "ipython3",
   "version": "3.12.3"
  }
 },
 "nbformat": 4,
 "nbformat_minor": 5
}
